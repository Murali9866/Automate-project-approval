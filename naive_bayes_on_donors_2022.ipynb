{
  "nbformat": 4,
  "nbformat_minor": 0,
  "metadata": {
    "colab": {
      "name": "naive bayes on donors 2022.ipynb",
      "provenance": [],
      "collapsed_sections": []
    },
    "kernelspec": {
      "name": "python3",
      "display_name": "Python 3"
    },
    "language_info": {
      "name": "python"
    }
  },
  "cells": [
    {
      "cell_type": "markdown",
      "source": [
        "\n",
        "#Assignment 6: Apply NB\n",
        "\n"
      ],
      "metadata": {
        "id": "mUVfPLgqcCrD"
      }
    },
    {
      "cell_type": "markdown",
      "source": [
        "<ol>\n",
        "    <li>Minimum data points need to be considered for people having 4GB RAM is <strong>50k</strong> and for 8GB RAM is <strong>100k</strong></li>\n",
        "    <li>When you are using ramdomsearchcv or gridsearchcv you need not split the data into X_train,X_cv,X_test. As the above methods use kfold. The model will learn better if train data is more so splitting to X_train,X_test will suffice.</li>\n",
        "    <li>If you are writing for loops to tune your model then you need split the data into X_train,X_cv,X_test.</li>\n",
        "    <li>While splitting the data explore stratify parameter. </li>\n",
        "    <li><strong>Apply Multinomial NB on these feature sets</strong></li>\n",
        "        <ul>\n",
        "            <li>Features that need to be considered</li> \n",
        "                <dl>\n",
        "                  <dt>essay</dt>\n",
        "                    <dd>while encoding essay, try to experiment with the max_features and n_grams parameter of vectorizers and see if it increases AUC score.</dd>\n",
        "                  <dt>categorical features</dt>\n",
        "                  <dd> - teacher_prefix</dd>\n",
        "                  <dd> - project_grade_category</dd>\n",
        "                  <dd> - school_state</dd>\n",
        "                  <dd> - clean_categories</dd>\n",
        "                  <dd> - clean_subcategories</dd>\n",
        "                  <dt>numerical features</dt>\n",
        "                  <dd> - price</dd>\n",
        "                  <dd> - teacher_number_of_previously_posted_projects</dd>\n",
        "                  <dd>while encoding the numerical features check <a href='https://imgur.com/ldZA1zg'>this</a> and <a href='https://ac-classroom-production.s3.amazonaws.com/public/COMMENT/Annotation_2020-05-21_225912_0lyZzN8.jpg'>this</a></dd>\n",
        "                </dl>    \n",
        "            <li><font color='red'>Set 1</font>: categorical, numerical features + preprocessed_eassay (BOW)</li>\n",
        "            <li><font color='red'>Set 2</font>: categorical, numerical features + preprocessed_eassay (TFIDF)</li>\n",
        "        </ul>\n",
        "    <li><strong>The hyper paramter tuning(find best alpha:smoothing parameter)</strong>\n",
        "        <ul>\n",
        "    <li>Consider alpha values in range: 10^-5 to 10^2 like [0.00001,0.0005, 0.0001,0.005,0.001,0.05,0.01,0.1,0.5,1,5,10,50,100]</li>\n",
        "    <li>Explore class_prior = [0.5, 0.5] parameter which can be present in MultinomialNB function(go through <a href='https://scikit-learn.org/stable/modules/generated/sklearn.naive_bayes.MultinomialNB.html'>this</a> ) then check how results might change.\n",
        "    <li>Find the best hyper parameter which will give the maximum <a href='https://www.appliedaicourse.com/course/applied-ai-course-online/lessons/receiver-operating-characteristic-curve-roc-curve-and-auc-1/'>AUC</a> value</li>\n",
        "    <li>For hyper parameter tuning using k-fold cross validation(use GridsearchCV or RandomsearchCV)/simple cross validation data (write for loop to iterate over hyper parameter values)</li>\n",
        "    <li>You need to plot the performance of model both on train data and cross validation data for each hyper parameter, like shown in the figure\n",
        "    <img src='https://i.imgur.com/hUv6aEy.jpg' width=300px><dd>-while plotting take log(alpha) on your X-axis so that it will be more readable</dd></li>\n",
        "    <li>Once after you found the best hyper parameter, you need to train your model with it, and find the AUC on test data and plot the ROC curve on both train and test.\n",
        "    <img src='https://imgur.com/q2P65L5.jpg' width=300px></li>\n",
        "    <li>Along with plotting ROC curve, you need to print the <a href='https://www.appliedaicourse.com/course/applied-ai-course-online/lessons/confusion-matrix-tpr-fpr-fnr-tnr-1/'>confusion matrix</a> with predicted and original labels of test data points\n",
        "        <img src='https://i.imgur.com/IdN5Ctv.png' width=300px><dd>-plot the confusion matrix in heatmaps, while plotting the confusion matrix go through the <a href='https://stackoverflow.com/questions/61748441/how-to-fix-the-values-displayed-in-a-confusion-matrix-in-exponential-form-to-nor'>link </a>\n",
        "</dd></li>\n",
        "        </ul>\n",
        "<li>find the top 20 features from either from feature <font color='red'>Set 1</font> or feature <font color='red'>Set 2</font> using values of `feature_log_prob_ ` parameter of `MultinomialNB` \n",
        "(https://scikit-learn.org/stable/modules/generated/sklearn.naive_bayes.MultinomialNB.html) and print <strong>BOTH</strong> positive as well as negative corresponding feature names. <dd> - go through the <a href='https://imgur.com/mWvE7gj'>link </a> </dd>\n",
        "    </li>\n",
        "    <li>You need to summarize the results at the end of the notebook, summarize it in the table format\n",
        "        <img src='http://i.imgur.com/YVpIGGE.jpg' width=400px>\n",
        "    </li>\n",
        "</ol>"
      ],
      "metadata": {
        "id": "QR_LaWpwcR86"
      }
    },
    {
      "cell_type": "code",
      "execution_count": 435,
      "metadata": {
        "id": "EzP3N1X3Kcjg"
      },
      "outputs": [],
      "source": [
        "%matplotlib inline\n",
        "import warnings\n",
        "warnings.filterwarnings(\"ignore\")\n",
        "\n",
        "import pandas as pd\n",
        "import numpy as np\n",
        "from sklearn.feature_extraction.text import TfidfVectorizer\n",
        "from sklearn.feature_extraction.text import CountVectorizer\n",
        "\n",
        "\n",
        "import re\n",
        "# Tutorial about Python regular expressions: https://pymotw.com/2/re/\n",
        "\n",
        "from nltk.corpus import stopwords\n",
        "import pickle\n",
        "\n",
        "from tqdm import tqdm\n",
        "import os"
      ]
    },
    {
      "cell_type": "markdown",
      "source": [
        "#1. Reading Data"
      ],
      "metadata": {
        "id": "ZuVnbUiULsIQ"
      }
    },
    {
      "cell_type": "code",
      "source": [
        "project_data = pd.read_csv('/content/drive/MyDrive/donors dataset/train_data.csv', nrows=50000)\n",
        "resource_data = pd.read_csv('/content/drive/MyDrive/donors dataset/resources.csv')"
      ],
      "metadata": {
        "id": "qEHsIFGALuWf"
      },
      "execution_count": 436,
      "outputs": []
    },
    {
      "cell_type": "code",
      "source": [
        "print(\"Number of data points in train data\", project_data.shape)\n",
        "print('-'*50)\n",
        "print(\"The attributes of data :\", project_data.columns.values)"
      ],
      "metadata": {
        "colab": {
          "base_uri": "https://localhost:8080/"
        },
        "id": "WWqIwOC8MPoA",
        "outputId": "5d021310-5581-43a7-8c89-a2656258a167"
      },
      "execution_count": 437,
      "outputs": [
        {
          "output_type": "stream",
          "name": "stdout",
          "text": [
            "Number of data points in train data (50000, 17)\n",
            "--------------------------------------------------\n",
            "The attributes of data : ['Unnamed: 0' 'id' 'teacher_id' 'teacher_prefix' 'school_state'\n",
            " 'project_submitted_datetime' 'project_grade_category'\n",
            " 'project_subject_categories' 'project_subject_subcategories'\n",
            " 'project_title' 'project_essay_1' 'project_essay_2' 'project_essay_3'\n",
            " 'project_essay_4' 'project_resource_summary'\n",
            " 'teacher_number_of_previously_posted_projects' 'project_is_approved']\n"
          ]
        }
      ]
    },
    {
      "cell_type": "markdown",
      "source": [
        "#2. Preprocessing Categorical Features: project_grade_category"
      ],
      "metadata": {
        "id": "gnqdiL05NDUI"
      }
    },
    {
      "cell_type": "code",
      "source": [
        "project_data['project_grade_category'].value_counts()"
      ],
      "metadata": {
        "colab": {
          "base_uri": "https://localhost:8080/"
        },
        "id": "121OUgagMtWH",
        "outputId": "9a7b1201-e3b2-4a1c-cccd-0bf077cfd8b1"
      },
      "execution_count": 438,
      "outputs": [
        {
          "output_type": "execute_result",
          "data": {
            "text/plain": [
              "Grades PreK-2    20316\n",
              "Grades 3-5       16968\n",
              "Grades 6-8        7750\n",
              "Grades 9-12       4966\n",
              "Name: project_grade_category, dtype: int64"
            ]
          },
          "metadata": {},
          "execution_count": 438
        }
      ]
    },
    {
      "cell_type": "code",
      "source": [
        "# https://stackoverflow.com/questions/36383821/pandas-dataframe-apply-function-to-column-strings-based-on-other-column-value\n",
        "project_data['project_grade_category'] = project_data['project_grade_category'].str.replace(' ','_')\n",
        "project_data['project_grade_category'] = project_data['project_grade_category'].str.replace('-','_')\n",
        "project_data['project_grade_category'] = project_data['project_grade_category'].str.lower()\n",
        "project_data['project_grade_category'].value_counts()"
      ],
      "metadata": {
        "colab": {
          "base_uri": "https://localhost:8080/"
        },
        "id": "3g7nWyO5NQ4H",
        "outputId": "39beced2-8fb6-4c04-e5e2-c80ea2721cb4"
      },
      "execution_count": 439,
      "outputs": [
        {
          "output_type": "execute_result",
          "data": {
            "text/plain": [
              "grades_prek_2    20316\n",
              "grades_3_5       16968\n",
              "grades_6_8        7750\n",
              "grades_9_12       4966\n",
              "Name: project_grade_category, dtype: int64"
            ]
          },
          "metadata": {},
          "execution_count": 439
        }
      ]
    },
    {
      "cell_type": "markdown",
      "source": [
        "#3. Preprocessing Categorical Features: project_subject_categories"
      ],
      "metadata": {
        "id": "Br6VqiDuNYUo"
      }
    },
    {
      "cell_type": "code",
      "source": [
        "project_data['project_subject_categories'].value_counts()"
      ],
      "metadata": {
        "colab": {
          "base_uri": "https://localhost:8080/"
        },
        "id": "qxKN6u3uNaDG",
        "outputId": "0ea187d8-6928-493e-82ce-f10b136c6071"
      },
      "execution_count": 440,
      "outputs": [
        {
          "output_type": "execute_result",
          "data": {
            "text/plain": [
              "Literacy & Language                           10927\n",
              "Math & Science                                 7695\n",
              "Literacy & Language, Math & Science            6705\n",
              "Health & Sports                                4700\n",
              "Music & The Arts                               2358\n",
              "Special Needs                                  1913\n",
              "Literacy & Language, Special Needs             1814\n",
              "Applied Learning                               1719\n",
              "Math & Science, Literacy & Language            1041\n",
              "Applied Learning, Literacy & Language          1018\n",
              "Math & Science, Special Needs                   871\n",
              "History & Civics                                839\n",
              "Literacy & Language, Music & The Arts           794\n",
              "Math & Science, Music & The Arts                755\n",
              "Applied Learning, Special Needs                 672\n",
              "History & Civics, Literacy & Language           651\n",
              "Health & Sports, Special Needs                  633\n",
              "Warmth, Care & Hunger                           606\n",
              "Math & Science, Applied Learning                565\n",
              "Applied Learning, Math & Science                477\n",
              "Health & Sports, Literacy & Language            369\n",
              "Literacy & Language, History & Civics           363\n",
              "Applied Learning, Music & The Arts              360\n",
              "Math & Science, History & Civics                282\n",
              "Literacy & Language, Applied Learning           280\n",
              "Applied Learning, Health & Sports               264\n",
              "Math & Science, Health & Sports                 187\n",
              "History & Civics, Math & Science                171\n",
              "Special Needs, Music & The Arts                 140\n",
              "History & Civics, Music & The Arts              135\n",
              "Health & Sports, Math & Science                 118\n",
              "History & Civics, Special Needs                 103\n",
              "Health & Sports, Applied Learning                99\n",
              "Applied Learning, History & Civics               78\n",
              "Music & The Arts, Special Needs                  67\n",
              "Health & Sports, Music & The Arts                66\n",
              "Literacy & Language, Health & Sports             33\n",
              "History & Civics, Applied Learning               25\n",
              "Health & Sports, History & Civics                25\n",
              "Special Needs, Health & Sports                   14\n",
              "Health & Sports, Warmth, Care & Hunger           12\n",
              "Music & The Arts, Health & Sports                10\n",
              "Music & The Arts, History & Civics                9\n",
              "Applied Learning, Warmth, Care & Hunger           8\n",
              "History & Civics, Health & Sports                 8\n",
              "Math & Science, Warmth, Care & Hunger             7\n",
              "Special Needs, Warmth, Care & Hunger              6\n",
              "Music & The Arts, Applied Learning                4\n",
              "Literacy & Language, Warmth, Care & Hunger        3\n",
              "Music & The Arts, Warmth, Care & Hunger           1\n",
              "Name: project_subject_categories, dtype: int64"
            ]
          },
          "metadata": {},
          "execution_count": 440
        }
      ]
    },
    {
      "cell_type": "markdown",
      "source": [
        "remove spaces, 'the'\n",
        "replace '&' with '_', and ',' with '_'"
      ],
      "metadata": {
        "id": "GhVMRv12Nh1S"
      }
    },
    {
      "cell_type": "code",
      "source": [
        "project_data['project_subject_categories'] = project_data['project_subject_categories'].str.replace(' The ','')\n",
        "project_data['project_subject_categories'] = project_data['project_subject_categories'].str.replace(' ','')\n",
        "project_data['project_subject_categories'] = project_data['project_subject_categories'].str.replace('&','_')\n",
        "project_data['project_subject_categories'] = project_data['project_subject_categories'].str.replace(',','_')\n",
        "project_data['project_subject_categories'] = project_data['project_subject_categories'].str.lower()\n",
        "project_data['project_subject_categories'].value_counts()"
      ],
      "metadata": {
        "colab": {
          "base_uri": "https://localhost:8080/"
        },
        "id": "L7TD80GwNisR",
        "outputId": "34aac52c-ea25-43e5-a8c1-40da907dd771"
      },
      "execution_count": 441,
      "outputs": [
        {
          "output_type": "execute_result",
          "data": {
            "text/plain": [
              "literacy_language                       10927\n",
              "math_science                             7695\n",
              "literacy_language_math_science           6705\n",
              "health_sports                            4700\n",
              "music_arts                               2358\n",
              "specialneeds                             1913\n",
              "literacy_language_specialneeds           1814\n",
              "appliedlearning                          1719\n",
              "math_science_literacy_language           1041\n",
              "appliedlearning_literacy_language        1018\n",
              "math_science_specialneeds                 871\n",
              "history_civics                            839\n",
              "literacy_language_music_arts              794\n",
              "math_science_music_arts                   755\n",
              "appliedlearning_specialneeds              672\n",
              "history_civics_literacy_language          651\n",
              "health_sports_specialneeds                633\n",
              "warmth_care_hunger                        606\n",
              "math_science_appliedlearning              565\n",
              "appliedlearning_math_science              477\n",
              "health_sports_literacy_language           369\n",
              "literacy_language_history_civics          363\n",
              "appliedlearning_music_arts                360\n",
              "math_science_history_civics               282\n",
              "literacy_language_appliedlearning         280\n",
              "appliedlearning_health_sports             264\n",
              "math_science_health_sports                187\n",
              "history_civics_math_science               171\n",
              "specialneeds_music_arts                   140\n",
              "history_civics_music_arts                 135\n",
              "health_sports_math_science                118\n",
              "history_civics_specialneeds               103\n",
              "health_sports_appliedlearning              99\n",
              "appliedlearning_history_civics             78\n",
              "music_arts_specialneeds                    67\n",
              "health_sports_music_arts                   66\n",
              "literacy_language_health_sports            33\n",
              "history_civics_appliedlearning             25\n",
              "health_sports_history_civics               25\n",
              "specialneeds_health_sports                 14\n",
              "health_sports_warmth_care_hunger           12\n",
              "music_arts_health_sports                   10\n",
              "music_arts_history_civics                   9\n",
              "appliedlearning_warmth_care_hunger          8\n",
              "history_civics_health_sports                8\n",
              "math_science_warmth_care_hunger             7\n",
              "specialneeds_warmth_care_hunger             6\n",
              "music_arts_appliedlearning                  4\n",
              "literacy_language_warmth_care_hunger        3\n",
              "music_arts_warmth_care_hunger               1\n",
              "Name: project_subject_categories, dtype: int64"
            ]
          },
          "metadata": {},
          "execution_count": 441
        }
      ]
    },
    {
      "cell_type": "markdown",
      "source": [
        "#4. Preprocessing Categorical Features: teacher_prefix"
      ],
      "metadata": {
        "id": "PxB58T8mN9zv"
      }
    },
    {
      "cell_type": "code",
      "source": [
        "project_data['teacher_prefix'].value_counts()"
      ],
      "metadata": {
        "colab": {
          "base_uri": "https://localhost:8080/"
        },
        "id": "mxC4wPTCN3wv",
        "outputId": "c4c39662-4556-4565-f522-fdd94e1a08d4"
      },
      "execution_count": 442,
      "outputs": [
        {
          "output_type": "execute_result",
          "data": {
            "text/plain": [
              "Mrs.       26140\n",
              "Ms.        17936\n",
              "Mr.         4859\n",
              "Teacher     1061\n",
              "Dr.            2\n",
              "Name: teacher_prefix, dtype: int64"
            ]
          },
          "metadata": {},
          "execution_count": 442
        }
      ]
    },
    {
      "cell_type": "code",
      "source": [
        "# check if we have any nan values are there\n",
        "print(project_data['teacher_prefix'].isnull().values.any())\n",
        "print(\"number of nan values\",project_data['teacher_prefix'].isnull().values.sum())"
      ],
      "metadata": {
        "colab": {
          "base_uri": "https://localhost:8080/"
        },
        "id": "kAe2KYM2OIAI",
        "outputId": "8b9f0923-b8cb-4877-ed2c-9f25a0915c78"
      },
      "execution_count": 443,
      "outputs": [
        {
          "output_type": "stream",
          "name": "stdout",
          "text": [
            "True\n",
            "number of nan values 2\n"
          ]
        }
      ]
    },
    {
      "cell_type": "markdown",
      "source": [
        "numebr of missing values are very less in number, we can replace it with Mrs. as most of the projects are submitted by Mrs."
      ],
      "metadata": {
        "id": "6QYVjNGPOOF2"
      }
    },
    {
      "cell_type": "code",
      "source": [
        "project_data['teacher_prefix']=project_data['teacher_prefix'].fillna('Mrs.')"
      ],
      "metadata": {
        "id": "Ubj4PhGcOOw3"
      },
      "execution_count": 444,
      "outputs": []
    },
    {
      "cell_type": "code",
      "source": [
        "project_data['teacher_prefix'].value_counts()"
      ],
      "metadata": {
        "colab": {
          "base_uri": "https://localhost:8080/"
        },
        "id": "3QUYKxBNOUH4",
        "outputId": "faf576e1-cc0f-4b56-c085-431c0b5025f7"
      },
      "execution_count": 445,
      "outputs": [
        {
          "output_type": "execute_result",
          "data": {
            "text/plain": [
              "Mrs.       26142\n",
              "Ms.        17936\n",
              "Mr.         4859\n",
              "Teacher     1061\n",
              "Dr.            2\n",
              "Name: teacher_prefix, dtype: int64"
            ]
          },
          "metadata": {},
          "execution_count": 445
        }
      ]
    },
    {
      "cell_type": "markdown",
      "source": [
        "Remove '.'\n",
        "convert all the chars to small"
      ],
      "metadata": {
        "id": "N6MjnDsdOXQz"
      }
    },
    {
      "cell_type": "code",
      "source": [
        "project_data['teacher_prefix'] = project_data['teacher_prefix'].str.replace('.','')\n",
        "project_data['teacher_prefix'] = project_data['teacher_prefix'].str.lower()\n",
        "project_data['teacher_prefix'].value_counts()"
      ],
      "metadata": {
        "colab": {
          "base_uri": "https://localhost:8080/"
        },
        "id": "gjmjsyOOOX8g",
        "outputId": "35c0dcb6-d5a8-4708-c461-b501ac770e53"
      },
      "execution_count": 446,
      "outputs": [
        {
          "output_type": "execute_result",
          "data": {
            "text/plain": [
              "mrs        26142\n",
              "ms         17936\n",
              "mr          4859\n",
              "teacher     1061\n",
              "dr             2\n",
              "Name: teacher_prefix, dtype: int64"
            ]
          },
          "metadata": {},
          "execution_count": 446
        }
      ]
    },
    {
      "cell_type": "markdown",
      "source": [
        "#5. Preprocessing Categorical Features: project_subject_subcategories"
      ],
      "metadata": {
        "id": "i2WYWDwTOmC4"
      }
    },
    {
      "cell_type": "code",
      "source": [
        "project_data['project_subject_subcategories'].value_counts()"
      ],
      "metadata": {
        "colab": {
          "base_uri": "https://localhost:8080/"
        },
        "id": "lwaY9VLGOnTO",
        "outputId": "e4d3215f-ffb7-4225-8414-83c0ce3a401a"
      },
      "execution_count": 447,
      "outputs": [
        {
          "output_type": "execute_result",
          "data": {
            "text/plain": [
              "Literacy                                   4434\n",
              "Literacy, Mathematics                      3833\n",
              "Literature & Writing, Mathematics          2705\n",
              "Literacy, Literature & Writing             2570\n",
              "Mathematics                                2441\n",
              "                                           ... \n",
              "Applied Sciences, Warmth, Care & Hunger       1\n",
              "Community Service, Financial Literacy         1\n",
              "Visual Arts, Warmth, Care & Hunger            1\n",
              "Financial Literacy, Foreign Languages         1\n",
              "Foreign Languages, Performing Arts            1\n",
              "Name: project_subject_subcategories, Length: 384, dtype: int64"
            ]
          },
          "metadata": {},
          "execution_count": 447
        }
      ]
    },
    {
      "cell_type": "code",
      "source": [
        "project_data['project_subject_subcategories'] = project_data['project_subject_subcategories'].str.replace(' The ','')\n",
        "project_data['project_subject_subcategories'] = project_data['project_subject_subcategories'].str.replace(' ','')\n",
        "project_data['project_subject_subcategories'] = project_data['project_subject_subcategories'].str.replace('&','_')\n",
        "project_data['project_subject_subcategories'] = project_data['project_subject_subcategories'].str.replace(',','_')\n",
        "project_data['project_subject_subcategories'] = project_data['project_subject_subcategories'].str.lower()\n",
        "project_data['project_subject_subcategories'].value_counts()"
      ],
      "metadata": {
        "colab": {
          "base_uri": "https://localhost:8080/"
        },
        "id": "uYUgwz4-OslJ",
        "outputId": "422ced55-2c4b-483c-fdd1-ebc92a6c9596"
      },
      "execution_count": 448,
      "outputs": [
        {
          "output_type": "execute_result",
          "data": {
            "text/plain": [
              "literacy                                 4434\n",
              "literacy_mathematics                     3833\n",
              "literature_writing_mathematics           2705\n",
              "literacy_literature_writing              2570\n",
              "mathematics                              2441\n",
              "                                         ... \n",
              "college_careerprep_teamsports               1\n",
              "charactereducation_nutritioneducation       1\n",
              "visualarts_warmth_care_hunger               1\n",
              "civics_government_extracurricular           1\n",
              "economics_music                             1\n",
              "Name: project_subject_subcategories, Length: 384, dtype: int64"
            ]
          },
          "metadata": {},
          "execution_count": 448
        }
      ]
    },
    {
      "cell_type": "markdown",
      "source": [
        "#6. Preprocessing Categorical Features: school_state"
      ],
      "metadata": {
        "id": "BYAPw4MjOvs3"
      }
    },
    {
      "cell_type": "code",
      "source": [
        "project_data['school_state'].value_counts()"
      ],
      "metadata": {
        "colab": {
          "base_uri": "https://localhost:8080/"
        },
        "id": "q8OxkfcSOxJf",
        "outputId": "d25fd4d4-06c2-4bff-be15-3bdd18c0a3ff"
      },
      "execution_count": 449,
      "outputs": [
        {
          "output_type": "execute_result",
          "data": {
            "text/plain": [
              "CA    7024\n",
              "NY    3393\n",
              "TX    3320\n",
              "FL    2839\n",
              "NC    2340\n",
              "IL    1967\n",
              "SC    1830\n",
              "GA    1828\n",
              "MI    1468\n",
              "PA    1419\n",
              "OH    1180\n",
              "IN    1171\n",
              "MO    1166\n",
              "WA    1103\n",
              "LA    1094\n",
              "MA    1076\n",
              "OK    1074\n",
              "NJ    1005\n",
              "AZ     994\n",
              "VA     916\n",
              "WI     833\n",
              "UT     792\n",
              "AL     790\n",
              "TN     774\n",
              "CT     774\n",
              "MD     668\n",
              "NV     665\n",
              "KY     614\n",
              "MS     598\n",
              "OR     577\n",
              "MN     556\n",
              "CO     538\n",
              "AR     446\n",
              "IA     306\n",
              "ID     302\n",
              "KS     285\n",
              "DC     247\n",
              "HI     239\n",
              "NM     236\n",
              "ME     222\n",
              "WV     218\n",
              "DE     155\n",
              "AK     153\n",
              "NE     144\n",
              "SD     142\n",
              "NH     141\n",
              "RI     126\n",
              "MT     106\n",
              "ND      63\n",
              "WY      51\n",
              "VT      32\n",
              "Name: school_state, dtype: int64"
            ]
          },
          "metadata": {},
          "execution_count": 449
        }
      ]
    },
    {
      "cell_type": "markdown",
      "source": [
        "convert all of them into small letters"
      ],
      "metadata": {
        "id": "jUl6zX1mO2DP"
      }
    },
    {
      "cell_type": "code",
      "source": [
        "project_data['school_state'] = project_data['school_state'].str.lower()\n",
        "project_data['school_state'].value_counts()"
      ],
      "metadata": {
        "colab": {
          "base_uri": "https://localhost:8080/"
        },
        "id": "5TU9j089O1gh",
        "outputId": "a80e1b9b-ba46-4763-c572-0c3b0092030b"
      },
      "execution_count": 450,
      "outputs": [
        {
          "output_type": "execute_result",
          "data": {
            "text/plain": [
              "ca    7024\n",
              "ny    3393\n",
              "tx    3320\n",
              "fl    2839\n",
              "nc    2340\n",
              "il    1967\n",
              "sc    1830\n",
              "ga    1828\n",
              "mi    1468\n",
              "pa    1419\n",
              "oh    1180\n",
              "in    1171\n",
              "mo    1166\n",
              "wa    1103\n",
              "la    1094\n",
              "ma    1076\n",
              "ok    1074\n",
              "nj    1005\n",
              "az     994\n",
              "va     916\n",
              "wi     833\n",
              "ut     792\n",
              "al     790\n",
              "ct     774\n",
              "tn     774\n",
              "md     668\n",
              "nv     665\n",
              "ky     614\n",
              "ms     598\n",
              "or     577\n",
              "mn     556\n",
              "co     538\n",
              "ar     446\n",
              "ia     306\n",
              "id     302\n",
              "ks     285\n",
              "dc     247\n",
              "hi     239\n",
              "nm     236\n",
              "me     222\n",
              "wv     218\n",
              "de     155\n",
              "ak     153\n",
              "ne     144\n",
              "sd     142\n",
              "nh     141\n",
              "ri     126\n",
              "mt     106\n",
              "nd      63\n",
              "wy      51\n",
              "vt      32\n",
              "Name: school_state, dtype: int64"
            ]
          },
          "metadata": {},
          "execution_count": 450
        }
      ]
    },
    {
      "cell_type": "markdown",
      "source": [
        "#7. Preprocessing Categorical Features: essay"
      ],
      "metadata": {
        "id": "KJS18fXUQC1P"
      }
    },
    {
      "cell_type": "code",
      "source": [
        "# https://stackoverflow.com/a/47091490/4084039\n",
        "import re\n",
        "\n",
        "def decontracted(phrase):\n",
        "    # specific\n",
        "    phrase = re.sub(r\"won't\", \"will not\", phrase)\n",
        "    phrase = re.sub(r\"can\\'t\", \"can not\", phrase)\n",
        "\n",
        "    # general\n",
        "    phrase = re.sub(r\"n\\'t\", \" not\", phrase)\n",
        "    phrase = re.sub(r\"\\'re\", \" are\", phrase)\n",
        "    phrase = re.sub(r\"\\'s\", \" is\", phrase)\n",
        "    phrase = re.sub(r\"\\'d\", \" would\", phrase)\n",
        "    phrase = re.sub(r\"\\'ll\", \" will\", phrase)\n",
        "    phrase = re.sub(r\"\\'t\", \" not\", phrase)\n",
        "    phrase = re.sub(r\"\\'ve\", \" have\", phrase)\n",
        "    phrase = re.sub(r\"\\'m\", \" am\", phrase)\n",
        "    return phrase"
      ],
      "metadata": {
        "id": "i-yPPhSmP3OJ"
      },
      "execution_count": 451,
      "outputs": []
    },
    {
      "cell_type": "code",
      "source": [
        "# https://gist.github.com/sebleier/554280\n",
        "# we are removing the words from the stop words list: 'no', 'nor', 'not'\n",
        "stopwords= ['i', 'me', 'my', 'myself', 'we', 'our', 'ours', 'ourselves', 'you', \"you're\", \"you've\",\\\n",
        "            \"you'll\", \"you'd\", 'your', 'yours', 'yourself', 'yourselves', 'he', 'him', 'his', 'himself', \\\n",
        "            'she', \"she's\", 'her', 'hers', 'herself', 'it', \"it's\", 'its', 'itself', 'they', 'them', 'their',\\\n",
        "            'theirs', 'themselves', 'what', 'which', 'who', 'whom', 'this', 'that', \"that'll\", 'these', 'those', \\\n",
        "            'am', 'is', 'are', 'was', 'were', 'be', 'been', 'being', 'have', 'has', 'had', 'having', 'do', 'does', \\\n",
        "            'did', 'doing', 'a', 'an', 'the', 'and', 'but', 'if', 'or', 'because', 'as', 'until', 'while', 'of', \\\n",
        "            'at', 'by', 'for', 'with', 'about', 'against', 'between', 'into', 'through', 'during', 'before', 'after',\\\n",
        "            'above', 'below', 'to', 'from', 'up', 'down', 'in', 'out', 'on', 'off', 'over', 'under', 'again', 'further',\\\n",
        "            'then', 'once', 'here', 'there', 'when', 'where', 'why', 'how', 'all', 'any', 'both', 'each', 'few', 'more',\\\n",
        "            'most', 'other', 'some', 'such', 'only', 'own', 'same', 'so', 'than', 'too', 'very', \\\n",
        "            's', 't', 'can', 'will', 'just', 'don', \"don't\", 'should', \"should've\", 'now', 'd', 'll', 'm', 'o', 're', \\\n",
        "            've', 'y', 'ain', 'aren', \"aren't\", 'couldn', \"couldn't\", 'didn', \"didn't\", 'doesn', \"doesn't\", 'hadn',\\\n",
        "            \"hadn't\", 'hasn', \"hasn't\", 'haven', \"haven't\", 'isn', \"isn't\", 'ma', 'mightn', \"mightn't\", 'mustn',\\\n",
        "            \"mustn't\", 'needn', \"needn't\", 'shan', \"shan't\", 'shouldn', \"shouldn't\", 'wasn', \"wasn't\", 'weren', \"weren't\", \\\n",
        "            'won', \"won't\", 'wouldn', \"wouldn't\"]"
      ],
      "metadata": {
        "id": "dqy-z-eXP3GX"
      },
      "execution_count": 452,
      "outputs": []
    },
    {
      "cell_type": "code",
      "source": [
        "# merge two column text dataframe: \n",
        "project_data[\"essay\"] = project_data[\"project_essay_1\"].map(str) +\\\n",
        "                        project_data[\"project_essay_2\"].map(str) + \\\n",
        "                        project_data[\"project_essay_3\"].map(str) + \\\n",
        "                        project_data[\"project_essay_4\"].map(str)"
      ],
      "metadata": {
        "id": "NNPxLdGjP2eG"
      },
      "execution_count": 453,
      "outputs": []
    },
    {
      "cell_type": "code",
      "source": [
        "print(\"printing some random essay\")\n",
        "print(9, project_data['essay'].values[9])\n",
        "print('-'*50)\n",
        "print(34, project_data['essay'].values[34])\n",
        "print('-'*50)\n",
        "print(147, project_data['essay'].values[147])"
      ],
      "metadata": {
        "colab": {
          "base_uri": "https://localhost:8080/"
        },
        "id": "kOSVCvACQUbu",
        "outputId": "9172874e-d909-4e24-9660-70afac9f1fa3"
      },
      "execution_count": 454,
      "outputs": [
        {
          "output_type": "stream",
          "name": "stdout",
          "text": [
            "printing some random essay\n",
            "9 Over 95% of my students are on free or reduced lunch.  I have a few who are homeless, but despite that, they come to school with an eagerness to learn.  My students are inquisitive eager learners who  embrace the challenge of not having great books and other resources  every day.  Many of them are not afforded the opportunity to engage with these big colorful pages of a book on a regular basis at home and they don't travel to the public library.  \\r\\nIt is my duty as a teacher to do all I can to provide each student an opportunity to succeed in every aspect of life. \\r\\nReading is Fundamental! My students will read these books over and over again while boosting their comprehension skills. These books will be used for read alouds, partner reading and for Independent reading. \\r\\nThey will engage in reading to build their \\\"Love for Reading\\\" by reading for pure enjoyment. They will be introduced to some new authors as well as some old favorites. I want my students to be ready for the 21st Century and know the pleasure of holding a good hard back book in hand. There's nothing like a good book to read!  \\r\\nMy students will soar in Reading, and more because of your consideration and generous funding contribution. This will help build stamina and prepare for 3rd grade. Thank you so much for reading our proposal!nannan\n",
            "--------------------------------------------------\n",
            "34 My students mainly come from extremely low-income families, and the majority of them come from homes where both parents work full time. Most of my students are at school from 7:30 am to 6:00 pm (2:30 to 6:00 pm in the after-school program), and they all receive free and reduced meals for breakfast and lunch. \\r\\n\\r\\n\\r\\nI want my students to feel  as comfortable in my classroom as they do at home. Many of my students take on multiple roles both at home as well as in school. They are sometimes the caretakers of younger siblings, cooks, babysitters, academics, friends, and most of all, they are developing who they are going to become as adults.  I consider it an essential part of my job to model helping others gain knowledge in a positive manner. As a result, I have a community of students who love helping each other in and outside of the classroom. They consistently look for opportunities to support each other's learning in a kind and helpful way.I am excited to be experimenting with alternative seating in my classroom this school year. Studies have shown that giving students the option of where they sit in a classroom increases focus as well as motivation.  \\r\\n\\r\\nBy allowing students choice in the classroom, they are able to explore and create in a welcoming environment. Alternative classroom seating has been experimented with more frequently in recent years. I believe (along with many others), that every child learns differently. This does not only apply to how multiplication is memorized, or a paper is written, but applies to the space in which they are asked to work. I have had students in the past ask \\\"Can I work in the library? Can I work on the carpet?\\\" My answer was always, \\\"As long as you're learning, you can work wherever you want!\\\" \\r\\n\\r\\nWith the yoga balls and the lap-desks, I will be able to increase the options for seating in my classroom and expand its imaginable space.nannan\n",
            "--------------------------------------------------\n",
            "147 My students are eager to learn and make their mark on the world.\\r\\n\\r\\nThey come from a Title 1 school and need extra love.\\r\\n\\r\\nMy fourth grade students are in a high poverty area and still come to school every day to get their education. I am trying to make it fun and educational for them so they can get the most out of their schooling. I created a caring environment for the students to bloom! They deserve the best.\\r\\nThank you!\\r\\nI am requesting 1 Chromebook to access online interventions, differentiate instruction, and get extra practice. The Chromebook will be used to supplement ELA and math instruction. Students will play ELA and math games that are engaging and fun, as well as participate in assignments online. This in turn will help my students improve their skills. Having a Chromebook in the classroom would not only allow students to use the programs at their own pace, but would ensure more students are getting adequate time to use the programs. The online programs have been especially beneficial to my students with special needs. They are able to work at their level as well as be challenged with some different materials. This is making these students more confident in their abilities.\\r\\n\\r\\nThe Chromebook would allow my students to have daily access to computers and increase their computing skills.\\r\\nThis will change their lives for the better as they become more successful in school. Having access to technology in the classroom would help bridge the achievement gap.nannan\n"
          ]
        }
      ]
    },
    {
      "cell_type": "markdown",
      "source": [
        ""
      ],
      "metadata": {
        "id": "gC8duW6YQyqu"
      }
    },
    {
      "cell_type": "code",
      "source": [
        "# Combining all the above stundents \n",
        "from tqdm import tqdm\n",
        "def preprocess_text(text_data):\n",
        "    preprocessed_text = []\n",
        "    # tqdm is for printing the status bar\n",
        "    for sentance in tqdm(text_data):\n",
        "        sent = decontracted(sentance)\n",
        "        sent = sent.replace('\\\\r', ' ')\n",
        "        sent = sent.replace('\\\\n', ' ')\n",
        "        sent = sent.replace('\\\\\"', ' ')\n",
        "        sent = re.sub('[^A-Za-z0-9]+', ' ', sent)\n",
        "        # https://gist.github.com/sebleier/554280\n",
        "        sent = ' '.join(e for e in sent.split() if e.lower() not in stopwords)\n",
        "        preprocessed_text.append(sent.lower().strip())\n",
        "    return preprocessed_text"
      ],
      "metadata": {
        "id": "Wl6ADRLsQzM-"
      },
      "execution_count": 455,
      "outputs": []
    },
    {
      "cell_type": "code",
      "source": [
        "preprocessed_essays = preprocess_text(project_data['essay'].values)"
      ],
      "metadata": {
        "colab": {
          "base_uri": "https://localhost:8080/"
        },
        "id": "YuMwwZJMQZG2",
        "outputId": "e85f6758-5a0a-4e51-ac6d-4716707767ad"
      },
      "execution_count": 456,
      "outputs": [
        {
          "output_type": "stream",
          "name": "stderr",
          "text": [
            "100%|██████████| 50000/50000 [00:31<00:00, 1590.02it/s]\n"
          ]
        }
      ]
    },
    {
      "cell_type": "markdown",
      "source": [
        "#8. Preprocessing Numerical Values: price"
      ],
      "metadata": {
        "id": "QICaVrCXRWxe"
      }
    },
    {
      "cell_type": "code",
      "source": [
        "# https://stackoverflow.com/questions/22407798/how-to-reset-a-dataframes-indexes-for-all-groups-in-one-step\n",
        "price_data = resource_data.groupby('id').agg({'price':'sum', 'quantity':'sum'}).reset_index()\n",
        "price_data.head(2)"
      ],
      "metadata": {
        "colab": {
          "base_uri": "https://localhost:8080/",
          "height": 112
        },
        "id": "uUgLlYIORcWe",
        "outputId": "0a5dd5fe-ae45-4190-b803-4b6b0c4dc1b2"
      },
      "execution_count": 457,
      "outputs": [
        {
          "output_type": "execute_result",
          "data": {
            "text/html": [
              "\n",
              "  <div id=\"df-29b4f7a8-12f3-4fc7-ba7e-f78742dd7eba\">\n",
              "    <div class=\"colab-df-container\">\n",
              "      <div>\n",
              "<style scoped>\n",
              "    .dataframe tbody tr th:only-of-type {\n",
              "        vertical-align: middle;\n",
              "    }\n",
              "\n",
              "    .dataframe tbody tr th {\n",
              "        vertical-align: top;\n",
              "    }\n",
              "\n",
              "    .dataframe thead th {\n",
              "        text-align: right;\n",
              "    }\n",
              "</style>\n",
              "<table border=\"1\" class=\"dataframe\">\n",
              "  <thead>\n",
              "    <tr style=\"text-align: right;\">\n",
              "      <th></th>\n",
              "      <th>id</th>\n",
              "      <th>price</th>\n",
              "      <th>quantity</th>\n",
              "    </tr>\n",
              "  </thead>\n",
              "  <tbody>\n",
              "    <tr>\n",
              "      <th>0</th>\n",
              "      <td>p000001</td>\n",
              "      <td>459.56</td>\n",
              "      <td>7</td>\n",
              "    </tr>\n",
              "    <tr>\n",
              "      <th>1</th>\n",
              "      <td>p000002</td>\n",
              "      <td>515.89</td>\n",
              "      <td>21</td>\n",
              "    </tr>\n",
              "  </tbody>\n",
              "</table>\n",
              "</div>\n",
              "      <button class=\"colab-df-convert\" onclick=\"convertToInteractive('df-29b4f7a8-12f3-4fc7-ba7e-f78742dd7eba')\"\n",
              "              title=\"Convert this dataframe to an interactive table.\"\n",
              "              style=\"display:none;\">\n",
              "        \n",
              "  <svg xmlns=\"http://www.w3.org/2000/svg\" height=\"24px\"viewBox=\"0 0 24 24\"\n",
              "       width=\"24px\">\n",
              "    <path d=\"M0 0h24v24H0V0z\" fill=\"none\"/>\n",
              "    <path d=\"M18.56 5.44l.94 2.06.94-2.06 2.06-.94-2.06-.94-.94-2.06-.94 2.06-2.06.94zm-11 1L8.5 8.5l.94-2.06 2.06-.94-2.06-.94L8.5 2.5l-.94 2.06-2.06.94zm10 10l.94 2.06.94-2.06 2.06-.94-2.06-.94-.94-2.06-.94 2.06-2.06.94z\"/><path d=\"M17.41 7.96l-1.37-1.37c-.4-.4-.92-.59-1.43-.59-.52 0-1.04.2-1.43.59L10.3 9.45l-7.72 7.72c-.78.78-.78 2.05 0 2.83L4 21.41c.39.39.9.59 1.41.59.51 0 1.02-.2 1.41-.59l7.78-7.78 2.81-2.81c.8-.78.8-2.07 0-2.86zM5.41 20L4 18.59l7.72-7.72 1.47 1.35L5.41 20z\"/>\n",
              "  </svg>\n",
              "      </button>\n",
              "      \n",
              "  <style>\n",
              "    .colab-df-container {\n",
              "      display:flex;\n",
              "      flex-wrap:wrap;\n",
              "      gap: 12px;\n",
              "    }\n",
              "\n",
              "    .colab-df-convert {\n",
              "      background-color: #E8F0FE;\n",
              "      border: none;\n",
              "      border-radius: 50%;\n",
              "      cursor: pointer;\n",
              "      display: none;\n",
              "      fill: #1967D2;\n",
              "      height: 32px;\n",
              "      padding: 0 0 0 0;\n",
              "      width: 32px;\n",
              "    }\n",
              "\n",
              "    .colab-df-convert:hover {\n",
              "      background-color: #E2EBFA;\n",
              "      box-shadow: 0px 1px 2px rgba(60, 64, 67, 0.3), 0px 1px 3px 1px rgba(60, 64, 67, 0.15);\n",
              "      fill: #174EA6;\n",
              "    }\n",
              "\n",
              "    [theme=dark] .colab-df-convert {\n",
              "      background-color: #3B4455;\n",
              "      fill: #D2E3FC;\n",
              "    }\n",
              "\n",
              "    [theme=dark] .colab-df-convert:hover {\n",
              "      background-color: #434B5C;\n",
              "      box-shadow: 0px 1px 3px 1px rgba(0, 0, 0, 0.15);\n",
              "      filter: drop-shadow(0px 1px 2px rgba(0, 0, 0, 0.3));\n",
              "      fill: #FFFFFF;\n",
              "    }\n",
              "  </style>\n",
              "\n",
              "      <script>\n",
              "        const buttonEl =\n",
              "          document.querySelector('#df-29b4f7a8-12f3-4fc7-ba7e-f78742dd7eba button.colab-df-convert');\n",
              "        buttonEl.style.display =\n",
              "          google.colab.kernel.accessAllowed ? 'block' : 'none';\n",
              "\n",
              "        async function convertToInteractive(key) {\n",
              "          const element = document.querySelector('#df-29b4f7a8-12f3-4fc7-ba7e-f78742dd7eba');\n",
              "          const dataTable =\n",
              "            await google.colab.kernel.invokeFunction('convertToInteractive',\n",
              "                                                     [key], {});\n",
              "          if (!dataTable) return;\n",
              "\n",
              "          const docLinkHtml = 'Like what you see? Visit the ' +\n",
              "            '<a target=\"_blank\" href=https://colab.research.google.com/notebooks/data_table.ipynb>data table notebook</a>'\n",
              "            + ' to learn more about interactive tables.';\n",
              "          element.innerHTML = '';\n",
              "          dataTable['output_type'] = 'display_data';\n",
              "          await google.colab.output.renderOutput(dataTable, element);\n",
              "          const docLink = document.createElement('div');\n",
              "          docLink.innerHTML = docLinkHtml;\n",
              "          element.appendChild(docLink);\n",
              "        }\n",
              "      </script>\n",
              "    </div>\n",
              "  </div>\n",
              "  "
            ],
            "text/plain": [
              "        id   price  quantity\n",
              "0  p000001  459.56         7\n",
              "1  p000002  515.89        21"
            ]
          },
          "metadata": {},
          "execution_count": 457
        }
      ]
    },
    {
      "cell_type": "code",
      "source": [
        "# join two dataframes in python: \n",
        "project_data = pd.merge(project_data, price_data, on='id', how='left')"
      ],
      "metadata": {
        "id": "ul4zB2r5RnVV"
      },
      "execution_count": 458,
      "outputs": []
    },
    {
      "cell_type": "code",
      "source": [
        "project_data['price'].head()"
      ],
      "metadata": {
        "colab": {
          "base_uri": "https://localhost:8080/"
        },
        "id": "KlVwS0YuRsYF",
        "outputId": "8cfed6df-dcab-47b0-c965-9198876b14ff"
      },
      "execution_count": 459,
      "outputs": [
        {
          "output_type": "execute_result",
          "data": {
            "text/plain": [
              "0    154.60\n",
              "1    299.00\n",
              "2    516.85\n",
              "3    232.90\n",
              "4     67.98\n",
              "Name: price, dtype: float64"
            ]
          },
          "metadata": {},
          "execution_count": 459
        }
      ]
    },
    {
      "cell_type": "markdown",
      "source": [
        "#8.1 applying StandardScaler"
      ],
      "metadata": {
        "id": "WQV5uuzWR6Am"
      }
    },
    {
      "cell_type": "code",
      "source": [
        "#from sklearn.preprocessing import StandardScaler\n",
        "#scaler = StandardScaler()\n",
        "#scaler.fit(project_data['price'].values.reshape(-1, 1))\n",
        "#project_data['std_price']=scaler.transform(project_data['price'].values.reshape(-1, 1) )"
      ],
      "metadata": {
        "id": "yvTHtI6SR7j-"
      },
      "execution_count": 460,
      "outputs": []
    },
    {
      "cell_type": "code",
      "source": [
        "#project_data['std_price'].head()"
      ],
      "metadata": {
        "id": "ivLZyAJlSE8m"
      },
      "execution_count": 461,
      "outputs": []
    },
    {
      "cell_type": "code",
      "source": [
        "#project_data['price']=project_data['std_price']"
      ],
      "metadata": {
        "id": "HGRS2JxhV6ct"
      },
      "execution_count": 462,
      "outputs": []
    },
    {
      "cell_type": "code",
      "source": [
        "#project_data.head(1)"
      ],
      "metadata": {
        "id": "QAaglCAqTANO"
      },
      "execution_count": 463,
      "outputs": []
    },
    {
      "cell_type": "markdown",
      "source": [
        "#9. Preprocessing Numerical Values: teacher_number_of_previously_posted_projects"
      ],
      "metadata": {
        "id": "iQB4b6GITU_N"
      }
    },
    {
      "cell_type": "code",
      "source": [
        "project_data['teacher_number_of_previously_posted_projects']"
      ],
      "metadata": {
        "colab": {
          "base_uri": "https://localhost:8080/"
        },
        "id": "3r-TZd2TTLWP",
        "outputId": "60ab8ddd-2d63-42ce-d663-a855a0e864eb"
      },
      "execution_count": 464,
      "outputs": [
        {
          "output_type": "execute_result",
          "data": {
            "text/plain": [
              "0         0\n",
              "1         7\n",
              "2         1\n",
              "3         4\n",
              "4         1\n",
              "         ..\n",
              "49995     8\n",
              "49996     6\n",
              "49997     9\n",
              "49998    37\n",
              "49999     0\n",
              "Name: teacher_number_of_previously_posted_projects, Length: 50000, dtype: int64"
            ]
          },
          "metadata": {},
          "execution_count": 464
        }
      ]
    },
    {
      "cell_type": "markdown",
      "source": [
        "#9.1 applying StandardScaler"
      ],
      "metadata": {
        "id": "9TP5kyGaTmpu"
      }
    },
    {
      "cell_type": "code",
      "source": [
        "#from sklearn.preprocessing import StandardScaler\n",
        "#scaler = StandardScaler()\n",
        "#scaler.fit(project_data['teacher_number_of_previously_posted_projects'].values.reshape(-1, 1))\n",
        "#project_data['teacher_number_of_previously_posted_projects']=scaler.transform(project_data['teacher_number_of_previously_posted_projects'].values.reshape(-1, 1) )"
      ],
      "metadata": {
        "id": "seDKoIrYTpRt"
      },
      "execution_count": 465,
      "outputs": []
    },
    {
      "cell_type": "code",
      "source": [
        "#project_data['teacher_number_of_previously_posted_projects'].head(2)"
      ],
      "metadata": {
        "id": "PctQHmZsT9tN"
      },
      "execution_count": 466,
      "outputs": []
    },
    {
      "cell_type": "code",
      "source": [
        "preprocessed_data=project_data"
      ],
      "metadata": {
        "id": "gyhOdIobVTo-"
      },
      "execution_count": 467,
      "outputs": []
    },
    {
      "cell_type": "markdown",
      "source": [
        "#1.1 Loading Data"
      ],
      "metadata": {
        "id": "s5aKJLB6ndP1"
      }
    },
    {
      "cell_type": "code",
      "source": [
        "data =preprocessed_data"
      ],
      "metadata": {
        "id": "OjGOO5sKnekZ"
      },
      "execution_count": 469,
      "outputs": []
    },
    {
      "cell_type": "code",
      "source": [
        "y = data['project_is_approved'].values\n",
        "X = data.drop(['project_is_approved'], axis=1)\n",
        "X.head(1)"
      ],
      "metadata": {
        "colab": {
          "base_uri": "https://localhost:8080/",
          "height": 266
        },
        "id": "RdzzOSmFnoen",
        "outputId": "d0c9a146-7ace-4925-ff59-a7c8f1b87198"
      },
      "execution_count": 470,
      "outputs": [
        {
          "output_type": "execute_result",
          "data": {
            "text/html": [
              "\n",
              "  <div id=\"df-6b020668-c75e-43eb-af95-74a238f92522\">\n",
              "    <div class=\"colab-df-container\">\n",
              "      <div>\n",
              "<style scoped>\n",
              "    .dataframe tbody tr th:only-of-type {\n",
              "        vertical-align: middle;\n",
              "    }\n",
              "\n",
              "    .dataframe tbody tr th {\n",
              "        vertical-align: top;\n",
              "    }\n",
              "\n",
              "    .dataframe thead th {\n",
              "        text-align: right;\n",
              "    }\n",
              "</style>\n",
              "<table border=\"1\" class=\"dataframe\">\n",
              "  <thead>\n",
              "    <tr style=\"text-align: right;\">\n",
              "      <th></th>\n",
              "      <th>Unnamed: 0</th>\n",
              "      <th>id</th>\n",
              "      <th>teacher_id</th>\n",
              "      <th>teacher_prefix</th>\n",
              "      <th>school_state</th>\n",
              "      <th>project_submitted_datetime</th>\n",
              "      <th>project_grade_category</th>\n",
              "      <th>project_subject_categories</th>\n",
              "      <th>project_subject_subcategories</th>\n",
              "      <th>project_title</th>\n",
              "      <th>project_essay_1</th>\n",
              "      <th>project_essay_2</th>\n",
              "      <th>project_essay_3</th>\n",
              "      <th>project_essay_4</th>\n",
              "      <th>project_resource_summary</th>\n",
              "      <th>teacher_number_of_previously_posted_projects</th>\n",
              "      <th>essay</th>\n",
              "      <th>price</th>\n",
              "      <th>quantity</th>\n",
              "    </tr>\n",
              "  </thead>\n",
              "  <tbody>\n",
              "    <tr>\n",
              "      <th>0</th>\n",
              "      <td>160221</td>\n",
              "      <td>p253737</td>\n",
              "      <td>c90749f5d961ff158d4b4d1e7dc665fc</td>\n",
              "      <td>mrs</td>\n",
              "      <td>in</td>\n",
              "      <td>2016-12-05 13:43:57</td>\n",
              "      <td>grades_prek_2</td>\n",
              "      <td>literacy_language</td>\n",
              "      <td>esl_literacy</td>\n",
              "      <td>Educational Support for English Learners at Home</td>\n",
              "      <td>My students are English learners that are work...</td>\n",
              "      <td>\\\"The limits of your language are the limits o...</td>\n",
              "      <td>NaN</td>\n",
              "      <td>NaN</td>\n",
              "      <td>My students need opportunities to practice beg...</td>\n",
              "      <td>0</td>\n",
              "      <td>My students are English learners that are work...</td>\n",
              "      <td>154.6</td>\n",
              "      <td>23</td>\n",
              "    </tr>\n",
              "  </tbody>\n",
              "</table>\n",
              "</div>\n",
              "      <button class=\"colab-df-convert\" onclick=\"convertToInteractive('df-6b020668-c75e-43eb-af95-74a238f92522')\"\n",
              "              title=\"Convert this dataframe to an interactive table.\"\n",
              "              style=\"display:none;\">\n",
              "        \n",
              "  <svg xmlns=\"http://www.w3.org/2000/svg\" height=\"24px\"viewBox=\"0 0 24 24\"\n",
              "       width=\"24px\">\n",
              "    <path d=\"M0 0h24v24H0V0z\" fill=\"none\"/>\n",
              "    <path d=\"M18.56 5.44l.94 2.06.94-2.06 2.06-.94-2.06-.94-.94-2.06-.94 2.06-2.06.94zm-11 1L8.5 8.5l.94-2.06 2.06-.94-2.06-.94L8.5 2.5l-.94 2.06-2.06.94zm10 10l.94 2.06.94-2.06 2.06-.94-2.06-.94-.94-2.06-.94 2.06-2.06.94z\"/><path d=\"M17.41 7.96l-1.37-1.37c-.4-.4-.92-.59-1.43-.59-.52 0-1.04.2-1.43.59L10.3 9.45l-7.72 7.72c-.78.78-.78 2.05 0 2.83L4 21.41c.39.39.9.59 1.41.59.51 0 1.02-.2 1.41-.59l7.78-7.78 2.81-2.81c.8-.78.8-2.07 0-2.86zM5.41 20L4 18.59l7.72-7.72 1.47 1.35L5.41 20z\"/>\n",
              "  </svg>\n",
              "      </button>\n",
              "      \n",
              "  <style>\n",
              "    .colab-df-container {\n",
              "      display:flex;\n",
              "      flex-wrap:wrap;\n",
              "      gap: 12px;\n",
              "    }\n",
              "\n",
              "    .colab-df-convert {\n",
              "      background-color: #E8F0FE;\n",
              "      border: none;\n",
              "      border-radius: 50%;\n",
              "      cursor: pointer;\n",
              "      display: none;\n",
              "      fill: #1967D2;\n",
              "      height: 32px;\n",
              "      padding: 0 0 0 0;\n",
              "      width: 32px;\n",
              "    }\n",
              "\n",
              "    .colab-df-convert:hover {\n",
              "      background-color: #E2EBFA;\n",
              "      box-shadow: 0px 1px 2px rgba(60, 64, 67, 0.3), 0px 1px 3px 1px rgba(60, 64, 67, 0.15);\n",
              "      fill: #174EA6;\n",
              "    }\n",
              "\n",
              "    [theme=dark] .colab-df-convert {\n",
              "      background-color: #3B4455;\n",
              "      fill: #D2E3FC;\n",
              "    }\n",
              "\n",
              "    [theme=dark] .colab-df-convert:hover {\n",
              "      background-color: #434B5C;\n",
              "      box-shadow: 0px 1px 3px 1px rgba(0, 0, 0, 0.15);\n",
              "      filter: drop-shadow(0px 1px 2px rgba(0, 0, 0, 0.3));\n",
              "      fill: #FFFFFF;\n",
              "    }\n",
              "  </style>\n",
              "\n",
              "      <script>\n",
              "        const buttonEl =\n",
              "          document.querySelector('#df-6b020668-c75e-43eb-af95-74a238f92522 button.colab-df-convert');\n",
              "        buttonEl.style.display =\n",
              "          google.colab.kernel.accessAllowed ? 'block' : 'none';\n",
              "\n",
              "        async function convertToInteractive(key) {\n",
              "          const element = document.querySelector('#df-6b020668-c75e-43eb-af95-74a238f92522');\n",
              "          const dataTable =\n",
              "            await google.colab.kernel.invokeFunction('convertToInteractive',\n",
              "                                                     [key], {});\n",
              "          if (!dataTable) return;\n",
              "\n",
              "          const docLinkHtml = 'Like what you see? Visit the ' +\n",
              "            '<a target=\"_blank\" href=https://colab.research.google.com/notebooks/data_table.ipynb>data table notebook</a>'\n",
              "            + ' to learn more about interactive tables.';\n",
              "          element.innerHTML = '';\n",
              "          dataTable['output_type'] = 'display_data';\n",
              "          await google.colab.output.renderOutput(dataTable, element);\n",
              "          const docLink = document.createElement('div');\n",
              "          docLink.innerHTML = docLinkHtml;\n",
              "          element.appendChild(docLink);\n",
              "        }\n",
              "      </script>\n",
              "    </div>\n",
              "  </div>\n",
              "  "
            ],
            "text/plain": [
              "   Unnamed: 0       id  ...  price quantity\n",
              "0      160221  p253737  ...  154.6       23\n",
              "\n",
              "[1 rows x 19 columns]"
            ]
          },
          "metadata": {},
          "execution_count": 470
        }
      ]
    },
    {
      "cell_type": "markdown",
      "source": [
        "#1.2 Splitting data into Train and cross validation(or test): Stratified Sampling"
      ],
      "metadata": {
        "id": "uRrjwvM1nEUI"
      }
    },
    {
      "cell_type": "code",
      "source": [
        "# train test split\n",
        "from sklearn.model_selection import train_test_split\n",
        "X_train, X_test, y_train, y_test = train_test_split(X, y, test_size=0.33, stratify=y)\n",
        "X_train, X_cv, y_train, y_cv = train_test_split(X_train, y_train, test_size=0.33, stratify=y_train)"
      ],
      "metadata": {
        "id": "LJZ5TWwvnFjY"
      },
      "execution_count": 471,
      "outputs": []
    },
    {
      "cell_type": "markdown",
      "source": [
        "##1.3 Make Data Model Ready: encoding eassay"
      ],
      "metadata": {
        "id": "IlWL6L6zoG9I"
      }
    },
    {
      "cell_type": "code",
      "source": [
        "ex = [\"classroom students should take break\",\n",
        "\"low income homes students receive free breakfast\",\n",
        "\"students will receive low grades\"]\n",
        "vectorizer = CountVectorizer()\n",
        "vectorizer.fit(ex)\n",
        "print(vectorizer.transform(ex).toarray())\n",
        "print(vectorizer.get_feature_names())"
      ],
      "metadata": {
        "colab": {
          "base_uri": "https://localhost:8080/"
        },
        "id": "-pZJArmsoI6f",
        "outputId": "e680cecd-ec11-489b-d34c-48374ef0e270"
      },
      "execution_count": 472,
      "outputs": [
        {
          "output_type": "stream",
          "name": "stdout",
          "text": [
            "[[1 0 1 0 0 0 0 0 0 1 1 1 0]\n",
            " [0 1 0 1 0 1 1 1 1 0 1 0 0]\n",
            " [0 0 0 0 1 0 0 1 1 0 1 0 1]]\n",
            "['break', 'breakfast', 'classroom', 'free', 'grades', 'homes', 'income', 'low', 'receive', 'should', 'students', 'take', 'will']\n"
          ]
        }
      ]
    },
    {
      "cell_type": "code",
      "source": [
        "print(X_train.shape, y_train.shape)\n",
        "print(X_cv.shape, y_cv.shape)\n",
        "print(X_test.shape, y_test.shape)\n",
        "\n",
        "print(\"=\"*100)\n",
        "\n",
        "\n",
        "vectorizer_bow_essay = CountVectorizer(min_df=10,ngram_range=(1,4), max_features=5000)\n",
        "vectorizer_bow_essay.fit(X_train['essay'].values) # fit has to happen only on train data\n",
        "\n",
        "# we use the fitted CountVectorizer to convert the text to vector\n",
        "X_train_essay_bow = vectorizer_bow_essay.transform(X_train['essay'].values)\n",
        "X_cv_essay_bow = vectorizer_bow_essay.transform(X_cv['essay'].values)\n",
        "X_test_essay_bow = vectorizer_bow_essay.transform(X_test['essay'].values)\n",
        "\n",
        "print(\"After vectorizations\")\n",
        "print(X_train_essay_bow.shape, y_train.shape)\n",
        "print(X_cv_essay_bow.shape, y_cv.shape)\n",
        "print(X_test_essay_bow.shape, y_test.shape)\n",
        "print(\"=\"*100)\n",
        "\n",
        "\n",
        "# print(\"YOU SHOULD NOT DO SOMETHING LIKE THIS\")\n",
        "# vectorizer = CountVectorizer()\n",
        "# x_train_bow = vectorizer.fit_transform(X_train['essay'].values)\n",
        "# x_cv_bow = vectorizer.fit_transform(X_cv['essay'].values)\n",
        "# x_test_bow = vectorizer.fit_transform(X_test['essay'].values)\n",
        "\n",
        "# print(x_train_bow.shape, y_train.shape)\n",
        "# print(x_cv_bow.shape, y_cv.shape)\n",
        "# print(x_test_bow.shape, y_test.shape)\n",
        "\n",
        "print(\"NOTE: THE NUMBER OF COLUMNS IN EACH OF THE VECTOR WONT BE SAME\")"
      ],
      "metadata": {
        "colab": {
          "base_uri": "https://localhost:8080/"
        },
        "id": "AK7yG_BSowtx",
        "outputId": "25f1c560-6586-4e1e-8e43-44e064b8e4ee"
      },
      "execution_count": 473,
      "outputs": [
        {
          "output_type": "stream",
          "name": "stdout",
          "text": [
            "(22445, 19) (22445,)\n",
            "(11055, 19) (11055,)\n",
            "(16500, 19) (16500,)\n",
            "====================================================================================================\n",
            "After vectorizations\n",
            "(22445, 5000) (22445,)\n",
            "(11055, 5000) (11055,)\n",
            "(16500, 5000) (16500,)\n",
            "====================================================================================================\n",
            "NOTE: THE NUMBER OF COLUMNS IN EACH OF THE VECTOR WONT BE SAME\n"
          ]
        }
      ]
    },
    {
      "cell_type": "code",
      "source": [
        "#Converting essay in to TFIDF representation using count vectorizer.\n",
        "vectorizer_tfidf_essay = TfidfVectorizer(min_df=10)\n",
        "vectorizer_tfidf_essay.fit(X_train['essay'])      #Fitting has to be on Train data\n",
        " \n",
        "X_train_essay_tfidf = vectorizer_tfidf_essay.transform(X_train['essay'].values)\n",
        "X_cv_essay_tfidf = vectorizer_tfidf_essay.transform(X_cv['essay'].values)\n",
        "X_test_essay_tfidf = vectorizer_tfidf_essay.transform(X_test['essay'].values)\n",
        "\n",
        "print(\"Shape of train data matrix after tfidf \",X_train_essay_tfidf.shape)\n",
        "print(\"Shape of train data matrix after tfidf \",X_cv_essay_tfidf.shape)\n",
        "print(\"Shape of test data matrix after tfidf \",X_test_essay_tfidf.shape)"
      ],
      "metadata": {
        "colab": {
          "base_uri": "https://localhost:8080/"
        },
        "id": "XEQ2Nt0o5yYC",
        "outputId": "10bd304d-e7df-40f1-9306-c7438478df75"
      },
      "execution_count": 474,
      "outputs": [
        {
          "output_type": "stream",
          "name": "stdout",
          "text": [
            "Shape of train data matrix after tfidf  (22445, 9136)\n",
            "Shape of train data matrix after tfidf  (11055, 9136)\n",
            "Shape of test data matrix after tfidf  (16500, 9136)\n"
          ]
        }
      ]
    },
    {
      "cell_type": "markdown",
      "source": [
        "#1.4 Make Data Model Ready: encoding numerical, categorical features\n"
      ],
      "metadata": {
        "id": "dR-_u9rWp7ew"
      }
    },
    {
      "cell_type": "markdown",
      "source": [
        "categorical features\n",
        "- teacher_prefix\n",
        "- project_grade_category\n",
        "- school_state\n",
        "- clean_categories\n",
        "- clean_subcategories"
      ],
      "metadata": {
        "id": "c27kcCJrqV3I"
      }
    },
    {
      "cell_type": "markdown",
      "source": [
        "1.4.1 encoding categorical features: School State"
      ],
      "metadata": {
        "id": "x5a1nhEMqH0o"
      }
    },
    {
      "cell_type": "code",
      "source": [
        "vectorizer1 = CountVectorizer(binary=True)\n",
        "vectorizer1.fit(X_train['school_state'].values) # fit has to happen only on train data\n",
        "\n",
        "# we use the fitted CountVectorizer to convert the text to vector\n",
        "X_train_state_ohe = vectorizer1.transform(X_train['school_state'].values)\n",
        "X_cv_state_ohe = vectorizer1.transform(X_cv['school_state'].values)\n",
        "X_test_state_ohe = vectorizer1.transform(X_test['school_state'].values)\n",
        "\n",
        "print(\"After vectorizations\")\n",
        "print(X_train_state_ohe.shape, y_train.shape)\n",
        "print(X_cv_state_ohe.shape, y_cv.shape)\n",
        "print(X_test_state_ohe.shape, y_test.shape)\n",
        "print(vectorizer1.get_feature_names())\n",
        "print(\"=\"*100)"
      ],
      "metadata": {
        "colab": {
          "base_uri": "https://localhost:8080/"
        },
        "id": "3fYY0MT7qIyY",
        "outputId": "2b9faebd-04e6-485e-b2f5-fcb4e51f56ae"
      },
      "execution_count": 475,
      "outputs": [
        {
          "output_type": "stream",
          "name": "stdout",
          "text": [
            "After vectorizations\n",
            "(22445, 51) (22445,)\n",
            "(11055, 51) (11055,)\n",
            "(16500, 51) (16500,)\n",
            "['ak', 'al', 'ar', 'az', 'ca', 'co', 'ct', 'dc', 'de', 'fl', 'ga', 'hi', 'ia', 'id', 'il', 'in', 'ks', 'ky', 'la', 'ma', 'md', 'me', 'mi', 'mn', 'mo', 'ms', 'mt', 'nc', 'nd', 'ne', 'nh', 'nj', 'nm', 'nv', 'ny', 'oh', 'ok', 'or', 'pa', 'ri', 'sc', 'sd', 'tn', 'tx', 'ut', 'va', 'vt', 'wa', 'wi', 'wv', 'wy']\n",
            "====================================================================================================\n"
          ]
        }
      ]
    },
    {
      "cell_type": "markdown",
      "source": [
        "1.4.2 encoding categorical features: teacher_prefix"
      ],
      "metadata": {
        "id": "5SvYthZMtrvf"
      }
    },
    {
      "cell_type": "code",
      "source": [
        "vectorizer2 = CountVectorizer(binary=True)\n",
        "vectorizer2.fit(X_train['teacher_prefix'].values) # fit has to happen only on train data\n",
        "\n",
        "# we use the fitted CountVectorizer to convert the text to vector\n",
        "X_train_teacher_ohe = vectorizer2.transform(X_train['teacher_prefix'].values)\n",
        "X_cv_teacher_ohe = vectorizer2.transform(X_cv['teacher_prefix'].values)\n",
        "X_test_teacher_ohe = vectorizer2.transform(X_test['teacher_prefix'].values)\n",
        "\n",
        "print(\"After vectorizations\")\n",
        "print(X_train_teacher_ohe.shape, y_train.shape)\n",
        "print(X_cv_teacher_ohe.shape, y_cv.shape)\n",
        "print(X_test_teacher_ohe.shape, y_test.shape)\n",
        "print(vectorizer2.get_feature_names())\n",
        "print(\"=\"*100)"
      ],
      "metadata": {
        "colab": {
          "base_uri": "https://localhost:8080/"
        },
        "id": "E9uEwgkrtscH",
        "outputId": "d6bbbbca-3c2e-449b-9c23-1558619abeed"
      },
      "execution_count": 476,
      "outputs": [
        {
          "output_type": "stream",
          "name": "stdout",
          "text": [
            "After vectorizations\n",
            "(22445, 4) (22445,)\n",
            "(11055, 4) (11055,)\n",
            "(16500, 4) (16500,)\n",
            "['mr', 'mrs', 'ms', 'teacher']\n",
            "====================================================================================================\n"
          ]
        }
      ]
    },
    {
      "cell_type": "markdown",
      "source": [
        "1.4.3 encoding categorical features: project_grade_category"
      ],
      "metadata": {
        "id": "mIZvUjfIt217"
      }
    },
    {
      "cell_type": "code",
      "source": [
        "vectorizer3 = CountVectorizer(binary=True)\n",
        "vectorizer3.fit(X_train['project_grade_category'].values) # fit has to happen only on train data\n",
        "\n",
        "# we use the fitted CountVectorizer to convert the text to vector\n",
        "X_train_grade_ohe = vectorizer3.transform(X_train['project_grade_category'].values)\n",
        "X_cv_grade_ohe = vectorizer3.transform(X_cv['project_grade_category'].values)\n",
        "X_test_grade_ohe = vectorizer3.transform(X_test['project_grade_category'].values)\n",
        "\n",
        "print(\"After vectorizations\")\n",
        "print(X_train_grade_ohe.shape, y_train.shape)\n",
        "print(X_cv_grade_ohe.shape, y_cv.shape)\n",
        "print(X_test_grade_ohe.shape, y_test.shape)\n",
        "print(vectorizer3.get_feature_names())\n",
        "print(\"=\"*100)"
      ],
      "metadata": {
        "colab": {
          "base_uri": "https://localhost:8080/"
        },
        "id": "M7GoOnmzt4co",
        "outputId": "b6c95dbb-b7e3-4ebe-df0f-8293c2bc3538"
      },
      "execution_count": 477,
      "outputs": [
        {
          "output_type": "stream",
          "name": "stdout",
          "text": [
            "After vectorizations\n",
            "(22445, 4) (22445,)\n",
            "(11055, 4) (11055,)\n",
            "(16500, 4) (16500,)\n",
            "['grades_3_5', 'grades_6_8', 'grades_9_12', 'grades_prek_2']\n",
            "====================================================================================================\n"
          ]
        }
      ]
    },
    {
      "cell_type": "markdown",
      "source": [
        "1.4.4 encoding categorical features: clean_categories"
      ],
      "metadata": {
        "id": "-J7y6qkmuQzm"
      }
    },
    {
      "cell_type": "markdown",
      "source": [
        "\n",
        "clean_categories"
      ],
      "metadata": {
        "id": "avdkOBvSuKe_"
      }
    },
    {
      "cell_type": "code",
      "source": [
        "vectorizer4 = CountVectorizer(binary=True)\n",
        "vectorizer4.fit(X_train['project_subject_categories'].values) # fit has to happen only on train data\n",
        "\n",
        "# we use the fitted CountVectorizer to convert the text to vector\n",
        "X_train_project_subject_categories_ohe = vectorizer4.transform(X_train['project_subject_categories'].values)\n",
        "X_cv_project_subject_categories_ohe = vectorizer4.transform(X_cv['project_subject_categories'].values)\n",
        "X_test_project_subject_categories_ohe = vectorizer4.transform(X_test['project_subject_categories'].values)\n",
        "\n",
        "print(\"After vectorizations\")\n",
        "print(X_train_project_subject_categories_ohe.shape, y_train.shape)\n",
        "print(X_cv_project_subject_categories_ohe.shape, y_cv.shape)\n",
        "print(X_test_project_subject_categories_ohe.shape, y_test.shape)\n",
        "print(vectorizer4.get_feature_names())\n",
        "print(\"=\"*100)"
      ],
      "metadata": {
        "colab": {
          "base_uri": "https://localhost:8080/"
        },
        "id": "2EuWXpk8ud_G",
        "outputId": "6bff1e73-89b7-4016-c164-170a5f41f5eb"
      },
      "execution_count": 478,
      "outputs": [
        {
          "output_type": "stream",
          "name": "stdout",
          "text": [
            "After vectorizations\n",
            "(22445, 49) (22445,)\n",
            "(11055, 49) (11055,)\n",
            "(16500, 49) (16500,)\n",
            "['appliedlearning', 'appliedlearning_health_sports', 'appliedlearning_history_civics', 'appliedlearning_literacy_language', 'appliedlearning_math_science', 'appliedlearning_music_arts', 'appliedlearning_specialneeds', 'appliedlearning_warmth_care_hunger', 'health_sports', 'health_sports_appliedlearning', 'health_sports_history_civics', 'health_sports_literacy_language', 'health_sports_math_science', 'health_sports_music_arts', 'health_sports_specialneeds', 'health_sports_warmth_care_hunger', 'history_civics', 'history_civics_appliedlearning', 'history_civics_health_sports', 'history_civics_literacy_language', 'history_civics_math_science', 'history_civics_music_arts', 'history_civics_specialneeds', 'literacy_language', 'literacy_language_appliedlearning', 'literacy_language_health_sports', 'literacy_language_history_civics', 'literacy_language_math_science', 'literacy_language_music_arts', 'literacy_language_specialneeds', 'literacy_language_warmth_care_hunger', 'math_science', 'math_science_appliedlearning', 'math_science_health_sports', 'math_science_history_civics', 'math_science_literacy_language', 'math_science_music_arts', 'math_science_specialneeds', 'math_science_warmth_care_hunger', 'music_arts', 'music_arts_appliedlearning', 'music_arts_health_sports', 'music_arts_history_civics', 'music_arts_specialneeds', 'specialneeds', 'specialneeds_health_sports', 'specialneeds_music_arts', 'specialneeds_warmth_care_hunger', 'warmth_care_hunger']\n",
            "====================================================================================================\n"
          ]
        }
      ]
    },
    {
      "cell_type": "markdown",
      "source": [
        "1.4.5 encoding categorical features: clean_categories"
      ],
      "metadata": {
        "id": "N914i9wZwKHO"
      }
    },
    {
      "cell_type": "markdown",
      "source": [
        "#clean subcategories"
      ],
      "metadata": {
        "id": "iMhhb3f5vq1V"
      }
    },
    {
      "cell_type": "code",
      "source": [
        "vectorizer5 = CountVectorizer(binary=True)\n",
        "vectorizer5.fit(X_train['project_subject_subcategories'].values) # fit has to happen only on train data\n",
        "\n",
        "# we use the fitted CountVectorizer to convert the text to vector\n",
        "X_train_project_subject_subcategories_ohe = vectorizer5.transform(X_train['project_subject_subcategories'].values)\n",
        "X_cv_project_subject_subcategories_ohe = vectorizer5.transform(X_cv['project_subject_subcategories'].values)\n",
        "X_test_project_subject_subcategories_ohe = vectorizer5.transform(X_test['project_subject_subcategories'].values)\n",
        "\n",
        "print(\"After vectorizations\")\n",
        "print(X_train_project_subject_subcategories_ohe.shape, y_train.shape)\n",
        "print(X_cv_project_subject_subcategories_ohe.shape, y_cv.shape)\n",
        "print(X_test_project_subject_subcategories_ohe.shape, y_test.shape)\n",
        "print(vectorizer5.get_feature_names())\n",
        "print(\"=\"*100)"
      ],
      "metadata": {
        "colab": {
          "base_uri": "https://localhost:8080/"
        },
        "id": "pXYM1ijTviO3",
        "outputId": "11915737-d393-4053-8839-e673b881b301"
      },
      "execution_count": 479,
      "outputs": [
        {
          "output_type": "stream",
          "name": "stdout",
          "text": [
            "After vectorizations\n",
            "(22445, 342) (22445,)\n",
            "(11055, 342) (11055,)\n",
            "(16500, 342) (16500,)\n",
            "['appliedsciences', 'appliedsciences_charactereducation', 'appliedsciences_civics_government', 'appliedsciences_college_careerprep', 'appliedsciences_communityservice', 'appliedsciences_earlydevelopment', 'appliedsciences_economics', 'appliedsciences_environmentalscience', 'appliedsciences_esl', 'appliedsciences_extracurricular', 'appliedsciences_gym_fitness', 'appliedsciences_health_lifescience', 'appliedsciences_health_wellness', 'appliedsciences_history_geography', 'appliedsciences_literacy', 'appliedsciences_literature_writing', 'appliedsciences_mathematics', 'appliedsciences_music', 'appliedsciences_nutritioneducation', 'appliedsciences_other', 'appliedsciences_parentinvolvement', 'appliedsciences_performingarts', 'appliedsciences_socialsciences', 'appliedsciences_specialneeds', 'appliedsciences_teamsports', 'appliedsciences_visualarts', 'charactereducation', 'charactereducation_civics_government', 'charactereducation_college_careerprep', 'charactereducation_communityservice', 'charactereducation_earlydevelopment', 'charactereducation_environmentalscience', 'charactereducation_esl', 'charactereducation_extracurricular', 'charactereducation_foreignlanguages', 'charactereducation_gym_fitness', 'charactereducation_health_lifescience', 'charactereducation_health_wellness', 'charactereducation_history_geography', 'charactereducation_literacy', 'charactereducation_literature_writing', 'charactereducation_mathematics', 'charactereducation_music', 'charactereducation_other', 'charactereducation_parentinvolvement', 'charactereducation_performingarts', 'charactereducation_socialsciences', 'charactereducation_specialneeds', 'charactereducation_teamsports', 'charactereducation_visualarts', 'charactereducation_warmth_care_hunger', 'civics_government', 'civics_government_college_careerprep', 'civics_government_communityservice', 'civics_government_economics', 'civics_government_environmentalscience', 'civics_government_financialliteracy', 'civics_government_health_lifescience', 'civics_government_history_geography', 'civics_government_literacy', 'civics_government_literature_writing', 'civics_government_mathematics', 'civics_government_performingarts', 'civics_government_socialsciences', 'civics_government_specialneeds', 'civics_government_teamsports', 'civics_government_visualarts', 'college_careerprep', 'college_careerprep_communityservice', 'college_careerprep_earlydevelopment', 'college_careerprep_economics', 'college_careerprep_environmentalscience', 'college_careerprep_extracurricular', 'college_careerprep_financialliteracy', 'college_careerprep_foreignlanguages', 'college_careerprep_health_lifescience', 'college_careerprep_health_wellness', 'college_careerprep_history_geography', 'college_careerprep_literacy', 'college_careerprep_literature_writing', 'college_careerprep_mathematics', 'college_careerprep_music', 'college_careerprep_nutritioneducation', 'college_careerprep_other', 'college_careerprep_parentinvolvement', 'college_careerprep_performingarts', 'college_careerprep_socialsciences', 'college_careerprep_specialneeds', 'college_careerprep_teamsports', 'college_careerprep_visualarts', 'communityservice', 'communityservice_economics', 'communityservice_environmentalscience', 'communityservice_esl', 'communityservice_extracurricular', 'communityservice_gym_fitness', 'communityservice_health_wellness', 'communityservice_history_geography', 'communityservice_literacy', 'communityservice_literature_writing', 'communityservice_mathematics', 'communityservice_music', 'communityservice_nutritioneducation', 'communityservice_other', 'communityservice_parentinvolvement', 'communityservice_performingarts', 'communityservice_socialsciences', 'communityservice_specialneeds', 'communityservice_visualarts', 'earlydevelopment', 'earlydevelopment_environmentalscience', 'earlydevelopment_extracurricular', 'earlydevelopment_foreignlanguages', 'earlydevelopment_gym_fitness', 'earlydevelopment_health_lifescience', 'earlydevelopment_health_wellness', 'earlydevelopment_history_geography', 'earlydevelopment_literacy', 'earlydevelopment_literature_writing', 'earlydevelopment_mathematics', 'earlydevelopment_music', 'earlydevelopment_nutritioneducation', 'earlydevelopment_other', 'earlydevelopment_parentinvolvement', 'earlydevelopment_performingarts', 'earlydevelopment_socialsciences', 'earlydevelopment_specialneeds', 'earlydevelopment_teamsports', 'earlydevelopment_visualarts', 'earlydevelopment_warmth_care_hunger', 'economics', 'economics_environmentalscience', 'economics_financialliteracy', 'economics_history_geography', 'economics_literacy', 'economics_literature_writing', 'economics_mathematics', 'economics_music', 'economics_nutritioneducation', 'economics_other', 'economics_socialsciences', 'economics_specialneeds', 'economics_visualarts', 'environmentalscience', 'environmentalscience_extracurricular', 'environmentalscience_financialliteracy', 'environmentalscience_foreignlanguages', 'environmentalscience_gym_fitness', 'environmentalscience_health_lifescience', 'environmentalscience_health_wellness', 'environmentalscience_history_geography', 'environmentalscience_literacy', 'environmentalscience_literature_writing', 'environmentalscience_mathematics', 'environmentalscience_nutritioneducation', 'environmentalscience_other', 'environmentalscience_parentinvolvement', 'environmentalscience_socialsciences', 'environmentalscience_specialneeds', 'environmentalscience_visualarts', 'environmentalscience_warmth_care_hunger', 'esl', 'esl_earlydevelopment', 'esl_environmentalscience', 'esl_extracurricular', 'esl_foreignlanguages', 'esl_gym_fitness', 'esl_health_lifescience', 'esl_health_wellness', 'esl_history_geography', 'esl_literacy', 'esl_literature_writing', 'esl_mathematics', 'esl_music', 'esl_other', 'esl_parentinvolvement', 'esl_performingarts', 'esl_socialsciences', 'esl_specialneeds', 'esl_visualarts', 'extracurricular', 'extracurricular_foreignlanguages', 'extracurricular_gym_fitness', 'extracurricular_health_wellness', 'extracurricular_literacy', 'extracurricular_literature_writing', 'extracurricular_mathematics', 'extracurricular_music', 'extracurricular_nutritioneducation', 'extracurricular_other', 'extracurricular_parentinvolvement', 'extracurricular_performingarts', 'extracurricular_specialneeds', 'extracurricular_teamsports', 'extracurricular_visualarts', 'financialliteracy', 'financialliteracy_history_geography', 'financialliteracy_literacy', 'financialliteracy_mathematics', 'financialliteracy_socialsciences', 'financialliteracy_specialneeds', 'foreignlanguages', 'foreignlanguages_gym_fitness', 'foreignlanguages_health_wellness', 'foreignlanguages_history_geography', 'foreignlanguages_literacy', 'foreignlanguages_literature_writing', 'foreignlanguages_mathematics', 'foreignlanguages_music', 'foreignlanguages_socialsciences', 'foreignlanguages_specialneeds', 'foreignlanguages_visualarts', 'gym_fitness', 'gym_fitness_health_lifescience', 'gym_fitness_health_wellness', 'gym_fitness_history_geography', 'gym_fitness_literacy', 'gym_fitness_literature_writing', 'gym_fitness_mathematics', 'gym_fitness_music', 'gym_fitness_nutritioneducation', 'gym_fitness_other', 'gym_fitness_parentinvolvement', 'gym_fitness_performingarts', 'gym_fitness_socialsciences', 'gym_fitness_specialneeds', 'gym_fitness_teamsports', 'health_lifescience', 'health_lifescience_health_wellness', 'health_lifescience_history_geography', 'health_lifescience_literacy', 'health_lifescience_literature_writing', 'health_lifescience_mathematics', 'health_lifescience_music', 'health_lifescience_nutritioneducation', 'health_lifescience_other', 'health_lifescience_parentinvolvement', 'health_lifescience_socialsciences', 'health_lifescience_specialneeds', 'health_lifescience_teamsports', 'health_lifescience_visualarts', 'health_lifescience_warmth_care_hunger', 'health_wellness', 'health_wellness_history_geography', 'health_wellness_literacy', 'health_wellness_literature_writing', 'health_wellness_mathematics', 'health_wellness_music', 'health_wellness_nutritioneducation', 'health_wellness_other', 'health_wellness_parentinvolvement', 'health_wellness_performingarts', 'health_wellness_socialsciences', 'health_wellness_specialneeds', 'health_wellness_teamsports', 'health_wellness_visualarts', 'health_wellness_warmth_care_hunger', 'history_geography', 'history_geography_literacy', 'history_geography_literature_writing', 'history_geography_mathematics', 'history_geography_music', 'history_geography_other', 'history_geography_performingarts', 'history_geography_socialsciences', 'history_geography_specialneeds', 'history_geography_visualarts', 'literacy', 'literacy_literature_writing', 'literacy_mathematics', 'literacy_music', 'literacy_nutritioneducation', 'literacy_other', 'literacy_parentinvolvement', 'literacy_performingarts', 'literacy_socialsciences', 'literacy_specialneeds', 'literacy_teamsports', 'literacy_visualarts', 'literature_writing', 'literature_writing_mathematics', 'literature_writing_music', 'literature_writing_other', 'literature_writing_parentinvolvement', 'literature_writing_performingarts', 'literature_writing_socialsciences', 'literature_writing_specialneeds', 'literature_writing_teamsports', 'literature_writing_visualarts', 'literature_writing_warmth_care_hunger', 'mathematics', 'mathematics_music', 'mathematics_nutritioneducation', 'mathematics_other', 'mathematics_parentinvolvement', 'mathematics_performingarts', 'mathematics_socialsciences', 'mathematics_specialneeds', 'mathematics_teamsports', 'mathematics_visualarts', 'mathematics_warmth_care_hunger', 'music', 'music_other', 'music_performingarts', 'music_socialsciences', 'music_specialneeds', 'music_teamsports', 'music_visualarts', 'nutritioneducation', 'nutritioneducation_other', 'nutritioneducation_socialsciences', 'nutritioneducation_specialneeds', 'nutritioneducation_teamsports', 'other', 'other_parentinvolvement', 'other_performingarts', 'other_socialsciences', 'other_specialneeds', 'other_teamsports', 'other_visualarts', 'parentinvolvement', 'parentinvolvement_performingarts', 'parentinvolvement_socialsciences', 'parentinvolvement_specialneeds', 'parentinvolvement_teamsports', 'parentinvolvement_visualarts', 'parentinvolvement_warmth_care_hunger', 'performingarts', 'performingarts_socialsciences', 'performingarts_specialneeds', 'performingarts_teamsports', 'performingarts_visualarts', 'socialsciences', 'socialsciences_specialneeds', 'socialsciences_visualarts', 'specialneeds', 'specialneeds_teamsports', 'specialneeds_visualarts', 'specialneeds_warmth_care_hunger', 'teamsports', 'visualarts', 'warmth_care_hunger']\n",
            "====================================================================================================\n"
          ]
        }
      ]
    },
    {
      "cell_type": "markdown",
      "source": [
        "#1.4.6 encoding numerical features: Price"
      ],
      "metadata": {
        "id": "Q8J36d_PxchB"
      }
    },
    {
      "cell_type": "code",
      "source": [
        "from sklearn.preprocessing import Normalizer\n",
        "normalizer = Normalizer()\n",
        "# normalizer.fit(X_train['price'].values)\n",
        "# this will rise an error Expected 2D array, got 1D array instead: \n",
        "# array=[105.22 215.96  96.01 ... 368.98  80.53 709.67].\n",
        "# Reshape your data either using \n",
        "# array.reshape(-1, 1) if your data has a single feature \n",
        "# array.reshape(1, -1)  if it contains a single sample.\n",
        "normalizer.fit(X_train['price'].values.reshape(-1,1))\n",
        "\n",
        "X_train_price_norm = normalizer.transform(X_train['price'].values.reshape(-1,1))\n",
        "X_cv_price_norm = normalizer.transform(X_cv['price'].values.reshape(-1,1))\n",
        "X_test_price_norm = normalizer.transform(X_test['price'].values.reshape(-1,1))\n",
        "\n",
        "\n",
        "\n",
        "print(\"After vectorizations\")\n",
        "print(X_train_price_norm.shape, y_train.shape)\n",
        "print(X_cv_price_norm.shape, y_cv.shape)\n",
        "print(X_test_price_norm.shape, y_test.shape)\n",
        "print(\"=\"*100)"
      ],
      "metadata": {
        "colab": {
          "base_uri": "https://localhost:8080/"
        },
        "id": "2T1oiWJxwMNB",
        "outputId": "85201556-a43b-482b-cb40-a9774c130c68"
      },
      "execution_count": 480,
      "outputs": [
        {
          "output_type": "stream",
          "name": "stdout",
          "text": [
            "After vectorizations\n",
            "(22445, 1) (22445,)\n",
            "(11055, 1) (11055,)\n",
            "(16500, 1) (16500,)\n",
            "====================================================================================================\n"
          ]
        }
      ]
    },
    {
      "cell_type": "markdown",
      "source": [
        "1.4.7 encoding numerical features: number_of_previously_posted_projects\n",
        "\n",
        "\n"
      ],
      "metadata": {
        "id": "p8FcAZGRxxF1"
      }
    },
    {
      "cell_type": "code",
      "source": [
        ""
      ],
      "metadata": {
        "id": "WCFyq4fGBPDY"
      },
      "execution_count": 480,
      "outputs": []
    },
    {
      "cell_type": "code",
      "source": [
        "from sklearn.preprocessing import Normalizer\n",
        "normalizer = Normalizer()\n",
        "# normalizer.fit(X_train['price'].values)\n",
        "# this will rise an error Expected 2D array, got 1D array instead: \n",
        "# array=[105.22 215.96  96.01 ... 368.98  80.53 709.67].\n",
        "# Reshape your data either using \n",
        "# array.reshape(-1, 1) if your data has a single feature \n",
        "# array.reshape(1, -1)  if it contains a single sample.\n",
        "normalizer.fit(X_train['teacher_number_of_previously_posted_projects'].values.reshape(-1,1))\n",
        "\n",
        "X_train_teacher_number_of_previously_posted_projects_norm = normalizer.transform(X_train['teacher_number_of_previously_posted_projects'].values.reshape(-1,1))\n",
        "X_cv_teacher_number_of_previously_posted_projects_norm = normalizer.transform(X_cv['teacher_number_of_previously_posted_projects'].values.reshape(-1,1))\n",
        "X_test_teacher_number_of_previously_posted_projects_norm = normalizer.transform(X_test['teacher_number_of_previously_posted_projects'].values.reshape(-1,1))\n",
        "\n",
        "\n",
        "\n",
        "print(\"After vectorizations\")\n",
        "print(X_train_teacher_number_of_previously_posted_projects_norm.shape, y_train.shape)\n",
        "print(X_cv_teacher_number_of_previously_posted_projects_norm.shape, y_cv.shape)\n",
        "print(X_test_teacher_number_of_previously_posted_projects_norm.shape, y_test.shape)\n",
        "print(\"=\"*100)"
      ],
      "metadata": {
        "colab": {
          "base_uri": "https://localhost:8080/"
        },
        "id": "nE3KWgMjxvmm",
        "outputId": "19e9f689-1405-47bb-dafe-1fd7a2529836"
      },
      "execution_count": 481,
      "outputs": [
        {
          "output_type": "stream",
          "name": "stdout",
          "text": [
            "After vectorizations\n",
            "(22445, 1) (22445,)\n",
            "(11055, 1) (11055,)\n",
            "(16500, 1) (16500,)\n",
            "====================================================================================================\n"
          ]
        }
      ]
    },
    {
      "cell_type": "markdown",
      "source": [
        ""
      ],
      "metadata": {
        "id": "Tq_mwBrnxvJF"
      }
    },
    {
      "cell_type": "markdown",
      "source": [
        "#1.4.8 Concatinating all the features"
      ],
      "metadata": {
        "id": "4Q3VJlUhBrh5"
      }
    },
    {
      "cell_type": "markdown",
      "source": [
        "##set1"
      ],
      "metadata": {
        "id": "JN-rlUDR7ji8"
      }
    },
    {
      "cell_type": "code",
      "source": [
        "# merge two sparse matrices: https://stackoverflow.com/a/19710648/4084039\n",
        "from scipy.sparse import hstack\n",
        "X_tr = hstack((X_train_essay_bow, X_train_state_ohe, X_train_teacher_ohe, X_train_grade_ohe, X_train_price_norm,\n",
        "               X_train_project_subject_categories_ohe,X_train_project_subject_subcategories_ohe,\n",
        "               X_train_teacher_number_of_previously_posted_projects_norm)).tocsr()\n",
        "X_cr = hstack((X_cv_essay_bow, X_cv_state_ohe, X_cv_teacher_ohe, X_cv_grade_ohe, X_cv_price_norm,\n",
        "               X_cv_project_subject_categories_ohe,X_cv_project_subject_subcategories_ohe,\n",
        "               X_cv_teacher_number_of_previously_posted_projects_norm)).tocsr()\n",
        "X_te = hstack((X_test_essay_bow, X_test_state_ohe, X_test_teacher_ohe, X_test_grade_ohe, X_test_price_norm,\n",
        "               X_test_project_subject_categories_ohe,X_test_project_subject_subcategories_ohe,\n",
        "               X_test_teacher_number_of_previously_posted_projects_norm)).tocsr()\n",
        "\n",
        "print(\"Final Data matrix\")\n",
        "print(X_tr.shape, y_train.shape)\n",
        "print(X_cr.shape, y_cv.shape)\n",
        "print(X_te.shape, y_test.shape)\n",
        "print(\"=\"*100)"
      ],
      "metadata": {
        "colab": {
          "base_uri": "https://localhost:8080/"
        },
        "id": "-2Xsof7DBueA",
        "outputId": "b78f8588-d3d7-4007-fbfd-195cd0afb9a0"
      },
      "execution_count": 482,
      "outputs": [
        {
          "output_type": "stream",
          "name": "stdout",
          "text": [
            "Final Data matrix\n",
            "(22445, 5452) (22445,)\n",
            "(11055, 5452) (11055,)\n",
            "(16500, 5452) (16500,)\n",
            "====================================================================================================\n"
          ]
        }
      ]
    },
    {
      "cell_type": "markdown",
      "source": [
        "#1.5 Appling NB on different kind of featurization as mentioned in the instructions"
      ],
      "metadata": {
        "id": "7Rix8edQDlr6"
      }
    },
    {
      "cell_type": "markdown",
      "source": [
        "1.5.1 Appling : BOW featurization"
      ],
      "metadata": {
        "id": "p7V1eaGyDqXf"
      }
    },
    {
      "cell_type": "code",
      "source": [
        "from sklearn.naive_bayes import MultinomialNB\n",
        "from matplotlib import pyplot as plt"
      ],
      "metadata": {
        "id": "kngjIjdkFVxB"
      },
      "execution_count": 483,
      "outputs": []
    },
    {
      "cell_type": "code",
      "source": [
        "def batch_predict(clf, data):\n",
        "    # roc_auc_score(y_true, y_score) the 2nd parameter should be probability estimates of the positive class\n",
        "    # not the predicted outputs\n",
        "\n",
        "    y_data_pred = []\n",
        "    tr_loop = data.shape[0] - data.shape[0]%1000\n",
        "    # consider you X_tr shape is 49041, then your tr_loop will be 49041 - 49041%1000 = 49000\n",
        "    # in this for loop we will iterate unti the last 1000 multiplier\n",
        "    for i in range(0, tr_loop, 1000):\n",
        "        y_data_pred.extend(clf.predict_proba(data[i:i+1000])[:,1])\n",
        "    # we will be predicting for the last data points\n",
        "    if data.shape[0]%1000 !=0:\n",
        "        y_data_pred.extend(clf.predict_proba(data[tr_loop:])[:,1])\n",
        "    \n",
        "    return y_data_pred"
      ],
      "metadata": {
        "id": "0DU-bcv-Kql-"
      },
      "execution_count": 484,
      "outputs": []
    },
    {
      "cell_type": "code",
      "source": [
        "# https://scikit-learn.org/stable/modules/generated/sklearn.model_selection.GridSearchCV.html\n",
        "from sklearn.model_selection import GridSearchCV\n",
        "from sklearn.naive_bayes import MultinomialNB\n",
        "from sklearn.neighbors import KNeighborsClassifier\n",
        "from scipy.stats import randint as sp_randint\n",
        "from sklearn.model_selection import RandomizedSearchCV\n",
        "\n",
        "mnb_bow = MultinomialNB(class_prior=[0.5, 0.5])\n",
        "parameters = {'alpha':[0.00001,0.0005, 0.0001,0.005,0.001,0.05,0.01,0.1,0.5,1,5,10,50,100]}\n",
        "clf = GridSearchCV(mnb_bow, parameters, cv=3, scoring='roc_auc',verbose=1,return_train_score=True)\n",
        "clf_results=clf.fit(X_tr, y_train)\n",
        "print(clf_results.best_score_)\n",
        "print(clf_results.best_estimator_)\n",
        "print(clf_results.best_params_)"
      ],
      "metadata": {
        "colab": {
          "base_uri": "https://localhost:8080/"
        },
        "id": "J40k9BhldiOz",
        "outputId": "00f1e6ae-8cf2-43db-e87a-53ef4172b093"
      },
      "execution_count": 485,
      "outputs": [
        {
          "output_type": "stream",
          "name": "stdout",
          "text": [
            "Fitting 3 folds for each of 14 candidates, totalling 42 fits\n",
            "0.6824822979749786\n",
            "MultinomialNB(alpha=0.5, class_prior=[0.5, 0.5])\n",
            "{'alpha': 0.5}\n"
          ]
        }
      ]
    },
    {
      "cell_type": "code",
      "source": [
        "plt.figure(figsize=(10,6))\n",
        "plt.plot(log_alphas, train_auc, label='Train AUC')\n",
        "plt.plot(log_alphas, cv_auc, label='CV AUC')\n",
        "\n",
        "plt.scatter(log_alphas, train_auc, label='Train AUC points')\n",
        "plt.scatter(log_alphas, cv_auc, label='CV AUC points')\n",
        "\n",
        "plt.legend()\n",
        "plt.xlabel(\"log alpha: hyperparameter\")\n",
        "plt.ylabel(\"AUC\")\n",
        "plt.title(\"alpha: hyperparameter v/s AUC\")\n",
        "plt.grid()\n",
        "plt.show()"
      ],
      "metadata": {
        "colab": {
          "base_uri": "https://localhost:8080/",
          "height": 424
        },
        "id": "vlTJvAOwdnfz",
        "outputId": "b7bffdf5-6475-442b-d63a-52ab72d3c3c6"
      },
      "execution_count": 486,
      "outputs": [
        {
          "output_type": "display_data",
          "data": {
            "image/png": "[encoded data removed]",
            "text/plain": [
              "<Figure size 720x432 with 1 Axes>"
            ]
          },
          "metadata": {
            "needs_background": "light"
          }
        }
      ]
    },
    {
      "cell_type": "markdown",
      "source": [
        "#1.5.1.2 Testing the performance of the model on test data, plotting ROC Curves"
      ],
      "metadata": {
        "id": "1zFpZP6dVgiW"
      }
    },
    {
      "cell_type": "code",
      "source": [
        "bestalpha_1=clf_results.best_params_['alpha']\n",
        "bestalpha_1"
      ],
      "metadata": {
        "colab": {
          "base_uri": "https://localhost:8080/"
        },
        "id": "aRzfjWeeXXjD",
        "outputId": "8ebf0944-e107-4528-b878-12a73cd0153b"
      },
      "execution_count": 487,
      "outputs": [
        {
          "output_type": "execute_result",
          "data": {
            "text/plain": [
              "0.5"
            ]
          },
          "metadata": {},
          "execution_count": 487
        }
      ]
    },
    {
      "cell_type": "code",
      "source": [
        "# from the error plot we choose K such that, we will have maximum AUC on cv data and gap between the train and cv is less\n",
        "# Note: based on the method you use you might get different hyperparameter values as best one\n",
        "# so, you choose according to the method you choose, you use gridsearch if you are having more computing power and note it will take more time\n",
        "# if you increase the cv values in the GridSearchCV you will get more rebust results.\n",
        "\n",
        "#here we are choosing the best_k based on forloop results\n",
        "best_alpha =bestalpha_1"
      ],
      "metadata": {
        "id": "WnHJ7fOfVh02"
      },
      "execution_count": 488,
      "outputs": []
    },
    {
      "cell_type": "code",
      "source": [
        "# https://scikit-learn.org/stable/modules/generated/sklearn.metrics.roc_curve.html#sklearn.metrics.roc_curve\n",
        "from sklearn.metrics import roc_curve, auc\n",
        "\n",
        "\n",
        "clf = MultinomialNB(alpha=best_alpha)\n",
        "\n",
        "clf.fit(X_tr, y_train)\n",
        "# roc_auc_score(y_true, y_score) the 2nd parameter should be probability estimates of the positive class\n",
        "# not the predicted outputs\n",
        "\n",
        "y_train_pred = batch_predict(clf, X_tr)    \n",
        "y_test_pred = batch_predict(clf, X_te)\n",
        "\n",
        "train_fpr, train_tpr, tr_thresholds = roc_curve(y_train, y_train_pred)\n",
        "test_fpr, test_tpr, te_thresholds = roc_curve(y_test, y_test_pred)\n",
        "\n",
        "plt.plot(train_fpr, train_tpr, label=\"train AUC =\"+str(auc(train_fpr, train_tpr)))\n",
        "plt.plot(test_fpr, test_tpr, label=\"test AUC =\"+str(auc(test_fpr, test_tpr)))\n",
        "plt.legend()\n",
        "plt.xlabel(\"alpha: hyperparameter\")\n",
        "plt.ylabel(\"AUC\")\n",
        "plt.title(\"ERROR PLOTS\")\n",
        "plt.grid()\n",
        "plt.show()"
      ],
      "metadata": {
        "colab": {
          "base_uri": "https://localhost:8080/",
          "height": 315
        },
        "id": "ynYFsOiuVtym",
        "outputId": "67499d02-578d-447f-d22e-3dfca4b21d7b"
      },
      "execution_count": 489,
      "outputs": [
        {
          "output_type": "display_data",
          "data": {
            "image/png": "[encoded data removed]",
            "text/plain": [
              "<Figure size 432x288 with 1 Axes>"
            ]
          },
          "metadata": {
            "needs_background": "light"
          }
        }
      ]
    },
    {
      "cell_type": "code",
      "source": [
        "# we are writing our own function for predict, with defined thresould\n",
        "# we will pick a threshold that will give the least fpr\n",
        "def find_best_threshold(threshould, fpr, tpr):\n",
        "    t = threshould[np.argmax(tpr*(1-fpr))]\n",
        "    # (tpr*(1-fpr)) will be maximum if your fpr is very low and tpr is very high\n",
        "    print(\"the maximum value of tpr*(1-fpr)\", max(tpr*(1-fpr)), \"for threshold\", np.round(t,3))\n",
        "    return t\n",
        "\n",
        "def predict_with_best_t(proba, threshould):\n",
        "    predictions = []\n",
        "    for i in proba:\n",
        "        if i>=threshould:\n",
        "            predictions.append(1)\n",
        "        else:\n",
        "            predictions.append(0)\n",
        "    return predictions"
      ],
      "metadata": {
        "id": "jyDFXIOPZlAF"
      },
      "execution_count": 490,
      "outputs": []
    },
    {
      "cell_type": "markdown",
      "source": [
        "#confusion matrix"
      ],
      "metadata": {
        "id": "oPfOfljwWmpy"
      }
    },
    {
      "cell_type": "code",
      "source": [
        "print(\"=\"*100)\n",
        "from sklearn.metrics import confusion_matrix\n",
        "best_t = find_best_threshold(tr_thresholds, train_fpr, train_tpr)\n",
        "print(\"Train confusion matrix\")\n",
        "print(confusion_matrix(y_train, predict_with_best_t(y_train_pred, best_t)))\n",
        "print(\"Test confusion matrix\")\n",
        "print(confusion_matrix(y_test, predict_with_best_t(y_test_pred, best_t)))"
      ],
      "metadata": {
        "colab": {
          "base_uri": "https://localhost:8080/"
        },
        "id": "fSTXPlD3ZpC0",
        "outputId": "a64c146e-e8be-4672-8e0d-2c5c64d40d28"
      },
      "execution_count": 491,
      "outputs": [
        {
          "output_type": "stream",
          "name": "stdout",
          "text": [
            "====================================================================================================\n",
            "the maximum value of tpr*(1-fpr) 0.46550944672024347 for threshold 0.734\n",
            "Train confusion matrix\n",
            "[[ 2324  1139]\n",
            " [ 5815 13167]]\n",
            "Test confusion matrix\n",
            "[[1525 1021]\n",
            " [4456 9498]]\n"
          ]
        }
      ]
    },
    {
      "cell_type": "markdown",
      "source": [
        "##confusion matrix"
      ],
      "metadata": {
        "id": "R5bEeZXYWYOX"
      }
    },
    {
      "cell_type": "code",
      "source": [
        "#plotting confusion matrix using seaborn's heatmap\n",
        "# https://stackoverflow.com/questions/35572000/how-can-i-plot-a-confusion-matrix\n",
        "import seaborn as sns; sns.set()\n",
        "\n",
        "print(\"Train data confusion matrix\")\n",
        "\n",
        "confusion_matrix_df_train = pd.DataFrame(confusion_matrix(y_train, predict_with_best_t(y_train_pred, best_t)), ['Actual: No','Actual: Yes'],['Predicted: No','Predicted: Yes'])\n",
        "sns.set(font_scale=1.4)#for label size\n",
        "sns.heatmap(confusion_matrix_df_train, annot=True,annot_kws={\"size\": 16}, fmt='g')"
      ],
      "metadata": {
        "colab": {
          "base_uri": "https://localhost:8080/",
          "height": 308
        },
        "id": "wrhIEAuCWbST",
        "outputId": "b150d89e-fba3-4889-d8d5-f4f277da96ad"
      },
      "execution_count": 492,
      "outputs": [
        {
          "output_type": "stream",
          "name": "stdout",
          "text": [
            "Train data confusion matrix\n"
          ]
        },
        {
          "output_type": "execute_result",
          "data": {
            "text/plain": [
              "<matplotlib.axes._subplots.AxesSubplot at 0x7f90d86c5e10>"
            ]
          },
          "metadata": {},
          "execution_count": 492
        },
        {
          "output_type": "display_data",
          "data": {
            "image/png": "[encoded data removed]",
            "text/plain": [
              "<Figure size 432x288 with 2 Axes>"
            ]
          },
          "metadata": {}
        }
      ]
    },
    {
      "cell_type": "markdown",
      "source": [
        "#1.5.4 Appling : TFIDF featurization"
      ],
      "metadata": {
        "id": "T0WOCEvmdBVT"
      }
    },
    {
      "cell_type": "markdown",
      "source": [
        "#set2"
      ],
      "metadata": {
        "id": "63P4H0fW7ZxB"
      }
    },
    {
      "cell_type": "code",
      "source": [
        "# merge two sparse matrices: https://stackoverflow.com/a/19710648/4084039\n",
        "from scipy.sparse import hstack\n",
        "X_tr1 = hstack((X_train_essay_tfidf, X_train_state_ohe, X_train_teacher_ohe, X_train_grade_ohe, X_train_price_norm,\n",
        "               X_train_project_subject_categories_ohe,X_train_project_subject_subcategories_ohe,\n",
        "               X_train_teacher_number_of_previously_posted_projects_norm)).tocsr()\n",
        "X_cr = hstack((X_cv_essay_tfidf, X_cv_state_ohe, X_cv_teacher_ohe, X_cv_grade_ohe, X_cv_price_norm,\n",
        "               X_cv_project_subject_categories_ohe,X_cv_project_subject_subcategories_ohe,\n",
        "               X_cv_teacher_number_of_previously_posted_projects_norm)).tocsr()\n",
        "X_te = hstack((X_test_essay_tfidf, X_test_state_ohe, X_test_teacher_ohe, X_test_grade_ohe, X_test_price_norm,\n",
        "               X_test_project_subject_categories_ohe,X_test_project_subject_subcategories_ohe,\n",
        "               X_test_teacher_number_of_previously_posted_projects_norm)).tocsr()\n",
        "\n",
        "print(\"Final Data matrix\")\n",
        "print(X_tr.shape, y_train.shape)\n",
        "print(X_cr.shape, y_cv.shape)\n",
        "print(X_te.shape, y_test.shape)\n",
        "print(\"=\"*100)"
      ],
      "metadata": {
        "colab": {
          "base_uri": "https://localhost:8080/"
        },
        "id": "bJR6LFTI7bkQ",
        "outputId": "326dd44b-7d5b-4bbe-e075-6672067f1452"
      },
      "execution_count": 493,
      "outputs": [
        {
          "output_type": "stream",
          "name": "stdout",
          "text": [
            "Final Data matrix\n",
            "(22445, 5452) (22445,)\n",
            "(11055, 9588) (11055,)\n",
            "(16500, 9588) (16500,)\n",
            "====================================================================================================\n"
          ]
        }
      ]
    },
    {
      "cell_type": "code",
      "source": [
        "def batch_predict(clf, data):\n",
        "    # roc_auc_score(y_true, y_score) the 2nd parameter should be probability estimates of the positive class\n",
        "    # not the predicted outputs\n",
        "\n",
        "    y_data_pred = []\n",
        "    tr_loop = data.shape[0] - data.shape[0]%1000\n",
        "    # consider you X_tr shape is 49041, then your tr_loop will be 49041 - 49041%1000 = 49000\n",
        "    # in this for loop we will iterate unti the last 1000 multiplier\n",
        "    for i in range(0, tr_loop, 1000):\n",
        "        y_data_pred.extend(clf.predict_proba(data[i:i+1000])[:,1])\n",
        "    # we will be predicting for the last data points\n",
        "    if data.shape[0]%1000 !=0:\n",
        "        y_data_pred.extend(clf.predict_proba(data[tr_loop:])[:,1])\n",
        "    \n",
        "    return y_data_pred"
      ],
      "metadata": {
        "id": "_e0WbatW9H3p"
      },
      "execution_count": 494,
      "outputs": []
    },
    {
      "cell_type": "code",
      "source": [
        "import matplotlib.pyplot as plt\n",
        "from sklearn.naive_bayes import MultinomialNB\n",
        "from sklearn.metrics import roc_auc_score\n",
        "import math\n",
        "\n",
        "train_auc = []\n",
        "cv_auc = []\n",
        "log_alphas = []\n",
        "\n",
        "alphas = [0.00001, 0.0001, 0.001, 0.01, 0.1, 1, 10,  100,  1000]\n",
        "\n",
        "for i in alphas:\n",
        "    NB = MultinomialNB(alpha = i,class_prior=[0.5,0.5])\n",
        "    NB.fit(X_tr1, y_train)\n",
        "\n",
        "    y_train_pred = batch_predict(NB, X_tr1)    \n",
        "    y_cv_pred = batch_predict(NB, X_cr)\n",
        "    \n",
        "\n",
        "    # roc_auc_score(y_true, y_score) the 2nd parameter should be probability estimates of the positive class\n",
        "    # not the predicted outputs        \n",
        "    train_auc.append(roc_auc_score(y_train,y_train_pred))\n",
        "    cv_auc.append(roc_auc_score(y_cv, y_cv_pred))\n",
        "\n",
        "for a in tqdm(alphas):\n",
        "    b = math.log(a)\n",
        "    log_alphas.append(b)"
      ],
      "metadata": {
        "colab": {
          "base_uri": "https://localhost:8080/"
        },
        "id": "IL1EjIJq9SgZ",
        "outputId": "71d5325f-4ec4-4575-d11c-9182cbfa09de"
      },
      "execution_count": 495,
      "outputs": [
        {
          "output_type": "stream",
          "name": "stderr",
          "text": [
            "100%|██████████| 9/9 [00:00<00:00, 16867.17it/s]\n"
          ]
        }
      ]
    },
    {
      "cell_type": "code",
      "source": [
        "plt.figure(figsize=(10,6))\n",
        "plt.plot(log_alphas, train_auc, label='Train AUC')\n",
        "plt.plot(log_alphas, cv_auc, label='CV AUC')\n",
        "\n",
        "plt.scatter(log_alphas, train_auc, label='Train AUC points')\n",
        "plt.scatter(log_alphas, cv_auc, label='CV AUC points')\n",
        "\n",
        "plt.legend()\n",
        "plt.xlabel(\"log alpha: hyperparameter\")\n",
        "plt.ylabel(\"AUC\")\n",
        "plt.title(\"alpha: hyperparameter v/s AUC\")\n",
        "plt.grid()\n",
        "plt.show()"
      ],
      "metadata": {
        "colab": {
          "base_uri": "https://localhost:8080/",
          "height": 424
        },
        "id": "tOW5wy1R9dQ6",
        "outputId": "d4065be3-c0ed-4419-abf2-7622f477d0d7"
      },
      "execution_count": 496,
      "outputs": [
        {
          "output_type": "display_data",
          "data": {
            "image/png": "[encoded data removed]",
            "text/plain": [
              "<Figure size 720x432 with 1 Axes>"
            ]
          },
          "metadata": {}
        }
      ]
    },
    {
      "cell_type": "code",
      "source": [
        "# https://scikit-learn.org/stable/modules/generated/sklearn.model_selection.GridSearchCV.html\n",
        "from sklearn.model_selection import GridSearchCV\n",
        "from sklearn.naive_bayes import MultinomialNB\n",
        "from sklearn.neighbors import KNeighborsClassifier\n",
        "from scipy.stats import randint as sp_randint\n",
        "from sklearn.model_selection import RandomizedSearchCV\n",
        "\n",
        "mnb_bow = MultinomialNB(class_prior=[0.5, 0.5])\n",
        "parameters = {'alpha':[0.00001,0.0005, 0.0001,0.005,0.001,0.05,0.01,0.1,0.5,1,5,10,50,100]}\n",
        "clf = GridSearchCV(mnb_bow, parameters, cv=3, scoring='roc_auc',verbose=1,return_train_score=True)\n",
        "clf_results=clf.fit(X_tr1, y_train)\n",
        "print(clf_results.best_score_)\n",
        "print(clf_results.best_estimator_)\n",
        "print(clf_results.best_params_)"
      ],
      "metadata": {
        "colab": {
          "base_uri": "https://localhost:8080/"
        },
        "id": "tsX0YJZ--TaI",
        "outputId": "3388d608-c8ff-4937-a90f-880130f1e05c"
      },
      "execution_count": 497,
      "outputs": [
        {
          "output_type": "stream",
          "name": "stdout",
          "text": [
            "Fitting 3 folds for each of 14 candidates, totalling 42 fits\n",
            "0.6343916995836821\n",
            "MultinomialNB(alpha=0.05, class_prior=[0.5, 0.5])\n",
            "{'alpha': 0.05}\n"
          ]
        }
      ]
    },
    {
      "cell_type": "code",
      "source": [
        "train_auc= clf.cv_results_['mean_train_score']\n",
        "train_auc_std= clf.cv_results_['std_train_score']\n",
        "cv_auc = clf.cv_results_['mean_test_score']\n",
        "cv_auc_std= clf.cv_results_['std_test_score']\n",
        "alpha=[0.00001,0.0005, 0.0001,0.005,0.001,0.05,0.01,0.1,0.5,1,5,10,50,100]\n",
        "log_alpha=[]\n",
        "for a in tqdm(alpha):\n",
        "    b = np.log10(a)\n",
        "    log_alpha.append(b)\n",
        "\n",
        "\n",
        "plt.plot(log_alpha, train_auc, label='Train AUC')\n",
        "# this code is copied from here: https://stackoverflow.com/a/48803361/4084039\n",
        "# plt.gca().fill_between(K, train_auc - train_auc_std,train_auc + train_auc_std,alpha=0.2,color='darkblue')\n",
        "\n",
        "plt.plot(log_alpha, cv_auc, label='CV AUC')\n",
        "# this code is copied from here: https://stackoverflow.com/a/48803361/4084039\n",
        "# plt.gca().fill_between(K, cv_auc - cv_auc_std,cv_auc + cv_auc_std,alpha=0.2,color='darkorange')\n",
        "\n",
        "plt.scatter(log_alpha, train_auc, label='Train AUC points')\n",
        "plt.scatter(log_alpha, cv_auc, label='CV AUC points')\n",
        "\n",
        "\n",
        "plt.legend()\n",
        "plt.xlabel(\"alpha: hyperparameter\")\n",
        "plt.ylabel(\"AUC\")\n",
        "plt.title(\"Hyper parameter Vs AUC plot\")\n",
        "plt.grid()\n",
        "plt.show()"
      ],
      "metadata": {
        "colab": {
          "base_uri": "https://localhost:8080/",
          "height": 332
        },
        "id": "vtVkfy9dAGno",
        "outputId": "54e3017c-3408-4ee9-c44e-e281444bb6ae"
      },
      "execution_count": 498,
      "outputs": [
        {
          "output_type": "stream",
          "name": "stderr",
          "text": [
            "100%|██████████| 14/14 [00:00<00:00, 22472.35it/s]\n"
          ]
        },
        {
          "output_type": "display_data",
          "data": {
            "image/png": "[encoded data removed]",
            "text/plain": [
              "<Figure size 432x288 with 1 Axes>"
            ]
          },
          "metadata": {}
        }
      ]
    },
    {
      "cell_type": "code",
      "source": [
        "bestalpha_2=clf_results.best_params_['alpha']\n",
        "bestalpha_2"
      ],
      "metadata": {
        "colab": {
          "base_uri": "https://localhost:8080/"
        },
        "id": "XCa4slt1ALoZ",
        "outputId": "13adac34-05e5-4f97-99fa-bf2fc0464915"
      },
      "execution_count": 499,
      "outputs": [
        {
          "output_type": "execute_result",
          "data": {
            "text/plain": [
              "0.05"
            ]
          },
          "metadata": {},
          "execution_count": 499
        }
      ]
    },
    {
      "cell_type": "code",
      "source": [
        "# https://scikit-learn.org/stable/modules/generated/sklearn.metrics.roc_curve.html#sklearn.metrics.roc_curve\n",
        "from sklearn.metrics import roc_curve, auc\n",
        "\n",
        "\n",
        "mnb_tfidf_testModel = MultinomialNB(alpha = bestalpha_2,class_prior=[0.5, 0.5])\n",
        "mnb_tfidf_testModel.fit(X_tr1, y_train)\n",
        "\n",
        "# roc_auc_score(y_true, y_score) the 2nd parameter should be probability estimates of the positive class\n",
        "# not the predicted outputs\n",
        "\n",
        "y_train_pred = mnb_tfidf_testModel.predict_proba(X_tr1)[:,1]  \n",
        "y_test_pred = mnb_tfidf_testModel.predict_proba(X_te)[:,1]\n",
        "\n",
        "train_fpr, train_tpr, tr_thresholds = roc_curve(y_train, y_train_pred)\n",
        "test_fpr, test_tpr, te_thresholds = roc_curve(y_test, y_test_pred)\n",
        "\n",
        "plt.plot(train_fpr, train_tpr, label=\"train AUC =\"+str(auc(train_fpr, train_tpr)))\n",
        "plt.plot(test_fpr, test_tpr, label=\"test AUC =\"+str(auc(test_fpr, test_tpr)))\n",
        "plt.legend()\n",
        "plt.xlabel(\"FALSE POSITIVE RATE\")\n",
        "plt.ylabel(\"TRUE POSITIVE RATE\")\n",
        "plt.title(\"ROC CURVE\")\n",
        "plt.grid()\n",
        "plt.show()"
      ],
      "metadata": {
        "colab": {
          "base_uri": "https://localhost:8080/",
          "height": 315
        },
        "id": "e_BKQCtTAPow",
        "outputId": "48e3d402-bae5-4fca-a68d-b4ae167ce672"
      },
      "execution_count": 500,
      "outputs": [
        {
          "output_type": "display_data",
          "data": {
            "image/png": "[encoded data removed]",
            "text/plain": [
              "<Figure size 432x288 with 1 Axes>"
            ]
          },
          "metadata": {}
        }
      ]
    },
    {
      "cell_type": "code",
      "source": [
        "# we are writing our own function for predict, with defined thresould\n",
        "# we will pick a threshold that will give the least fpr\n",
        "def find_best_threshold(threshould, fpr, tpr):\n",
        "    t = threshould[np.argmax(tpr*(1-fpr))]\n",
        "    # (tpr*(1-fpr)) will be maximum if your fpr is very low and tpr is very high\n",
        "    print(\"the maximum value of tpr*(1-fpr)\", max(tpr*(1-fpr)), \"for threshold\", np.round(t,3))\n",
        "    return t\n",
        "\n",
        "def predict_with_best_t(proba, threshould):\n",
        "    predictions = []\n",
        "    for i in proba:\n",
        "        if i>=threshould:\n",
        "            predictions.append(1)\n",
        "        else:\n",
        "            predictions.append(0)\n",
        "    return predictions"
      ],
      "metadata": {
        "id": "VdAGAoQaAYZJ"
      },
      "execution_count": 501,
      "outputs": []
    },
    {
      "cell_type": "code",
      "source": [
        "print(\"=\"*100)\n",
        "from sklearn.metrics import confusion_matrix\n",
        "best_t = find_best_threshold(tr_thresholds, train_fpr, train_tpr)\n",
        "print(\"Train confusion matrix\")\n",
        "print(confusion_matrix(y_train, predict_with_best_t(y_train_pred, best_t)))\n",
        "print(\"Test confusion matrix\")\n",
        "print(confusion_matrix(y_test, predict_with_best_t(y_test_pred, best_t)))"
      ],
      "metadata": {
        "colab": {
          "base_uri": "https://localhost:8080/"
        },
        "id": "JxVjhyRsAbo4",
        "outputId": "937e26e9-fcc3-4a9a-95ed-832879aff162"
      },
      "execution_count": 502,
      "outputs": [
        {
          "output_type": "stream",
          "name": "stdout",
          "text": [
            "====================================================================================================\n",
            "the maximum value of tpr*(1-fpr) 0.5180233364234329 for threshold 0.516\n",
            "Train confusion matrix\n",
            "[[ 2549   914]\n",
            " [ 5623 13359]]\n",
            "Test confusion matrix\n",
            "[[1358 1188]\n",
            " [4486 9468]]\n"
          ]
        }
      ]
    },
    {
      "cell_type": "code",
      "source": [
        "#plotting confusion matrix using seaborn's heatmap\n",
        "# https://stackoverflow.com/questions/35572000/how-can-i-plot-a-confusion-matrix\n",
        "import seaborn as sns; sns.set()\n",
        "\n",
        "print(\"Train data confusion matrix\")\n",
        "\n",
        "confusion_matrix_df_train = pd.DataFrame(confusion_matrix(y_train, predict_with_best_t(y_train_pred, best_t)), ['Actual: No','Actual: Yes'],['Predicted: No','Predicted: Yes'])\n",
        "sns.set(font_scale=1.4)#for label size\n",
        "sns.heatmap(confusion_matrix_df_train, annot=True,annot_kws={\"size\": 16}, fmt='g')"
      ],
      "metadata": {
        "colab": {
          "base_uri": "https://localhost:8080/",
          "height": 308
        },
        "id": "75h0migvAerP",
        "outputId": "bdd7eaea-cf98-4a1b-f144-570a4000c078"
      },
      "execution_count": 503,
      "outputs": [
        {
          "output_type": "stream",
          "name": "stdout",
          "text": [
            "Train data confusion matrix\n"
          ]
        },
        {
          "output_type": "execute_result",
          "data": {
            "text/plain": [
              "<matplotlib.axes._subplots.AxesSubplot at 0x7f90e9b9cb50>"
            ]
          },
          "metadata": {},
          "execution_count": 503
        },
        {
          "output_type": "display_data",
          "data": {
            "image/png": "[encoded data removed]",
            "text/plain": [
              "<Figure size 432x288 with 2 Axes>"
            ]
          },
          "metadata": {}
        }
      ]
    },
    {
      "cell_type": "markdown",
      "source": [
        "# imp features"
      ],
      "metadata": {
        "id": "CDgixC_mc364"
      }
    },
    {
      "cell_type": "code",
      "source": [
        "nb_bow = MultinomialNB(alpha = 10,class_prior=[0.5,0.5])\n",
        "\n",
        "nb_bow.fit(X_tr, y_train)"
      ],
      "metadata": {
        "colab": {
          "base_uri": "https://localhost:8080/"
        },
        "id": "v2FBMRvsc7ff",
        "outputId": "58798494-0b33-4f50-c448-396a587bf58f"
      },
      "execution_count": 504,
      "outputs": [
        {
          "output_type": "execute_result",
          "data": {
            "text/plain": [
              "MultinomialNB(alpha=10, class_prior=[0.5, 0.5])"
            ]
          },
          "metadata": {},
          "execution_count": 504
        }
      ]
    },
    {
      "cell_type": "code",
      "source": [
        "bow_features_names1 = []"
      ],
      "metadata": {
        "id": "ZhsREskpdEJK"
      },
      "execution_count": 505,
      "outputs": []
    },
    {
      "cell_type": "code",
      "source": [
        "#this code taken from https://imgur.com/mWvE7gj\n",
        "all_feature_names_bow=[]\n",
        "for i in vectorizer1.get_feature_names():\n",
        "    all_feature_names_bow.append(i)   \n",
        "\n",
        "for i in vectorizer2.get_feature_names():\n",
        "    all_feature_names_bow.append(i)    \n",
        "\n",
        "for i in vectorizer3.get_feature_names():\n",
        "    all_feature_names_bow.append(i)    \n",
        "\n",
        "for i in vectorizer4.get_feature_names():\n",
        "    all_feature_names_bow.append(i)   \n",
        "\n",
        "for i in vectorizer5.get_feature_names():\n",
        "    all_feature_names_bow.append(i)   \n",
        "   \n",
        "\n",
        "for i in vectorizer_bow_essay.get_feature_names():\n",
        "    all_feature_names_bow.append(i)   \n",
        "all_feature_names_bow.append(\"price\")\n",
        "all_feature_names_bow.append(\"teacher_number_of_previously_posted_projects\")\n",
        "\n",
        "print( len(all_feature_names_bow))"
      ],
      "metadata": {
        "id": "FaRWHT8mgSq4",
        "outputId": "b56991e9-9b20-4bac-a3b0-777733159ff8",
        "colab": {
          "base_uri": "https://localhost:8080/"
        }
      },
      "execution_count": 506,
      "outputs": [
        {
          "output_type": "stream",
          "name": "stdout",
          "text": [
            "5452\n"
          ]
        }
      ]
    },
    {
      "cell_type": "code",
      "source": [
        "#for BOW\n",
        "nb = MultinomialNB(alpha=0.5,class_prior=[0.5,0.5])\n",
        "nb.fit(X_tr,y_train)# fit the model\n",
        "# now make a dictionary of all the probabilities fo the weights\n",
        "bow_features_probs = []\n",
        "for a in range(len(all_feature_names_bow)):\n",
        "    bow_features_probs.append(nb.feature_log_prob_[0,a] )\n",
        "print(len(bow_features_probs))"
      ],
      "metadata": {
        "colab": {
          "base_uri": "https://localhost:8080/"
        },
        "id": "M_dtMMg8umgd",
        "outputId": "46de978a-0790-43a5-dcd8-e6e794bf82de"
      },
      "execution_count": 508,
      "outputs": [
        {
          "output_type": "stream",
          "name": "stdout",
          "text": [
            "5452\n"
          ]
        }
      ]
    },
    {
      "cell_type": "code",
      "source": [
        "#top 20 negatives\n",
        "final_bow_features = pd.DataFrame({'feature_prob_estimates' : bow_features_probs, 'feature_names': all_feature_names_bow})\n",
        "a =final_bow_features.sort_values(by = ['feature_prob_estimates'], ascending = False)\n",
        "a.head(20)"
      ],
      "metadata": {
        "colab": {
          "base_uri": "https://localhost:8080/",
          "height": 676
        },
        "id": "ihkQLofSuq_8",
        "outputId": "77ed482e-0b5b-4c7b-c55a-6ee61bdfbdd5"
      },
      "execution_count": 509,
      "outputs": [
        {
          "output_type": "execute_result",
          "data": {
            "text/html": [
              "\n",
              "  <div id=\"df-0fdca456-2f13-4e64-8c35-c8a6cbeb93ab\">\n",
              "    <div class=\"colab-df-container\">\n",
              "      <div>\n",
              "<style scoped>\n",
              "    .dataframe tbody tr th:only-of-type {\n",
              "        vertical-align: middle;\n",
              "    }\n",
              "\n",
              "    .dataframe tbody tr th {\n",
              "        vertical-align: top;\n",
              "    }\n",
              "\n",
              "    .dataframe thead th {\n",
              "        text-align: right;\n",
              "    }\n",
              "</style>\n",
              "<table border=\"1\" class=\"dataframe\">\n",
              "  <thead>\n",
              "    <tr style=\"text-align: right;\">\n",
              "      <th></th>\n",
              "      <th>feature_prob_estimates</th>\n",
              "      <th>feature_names</th>\n",
              "    </tr>\n",
              "  </thead>\n",
              "  <tbody>\n",
              "    <tr>\n",
              "      <th>4257</th>\n",
              "      <td>-3.484473</td>\n",
              "      <td>that come</td>\n",
              "    </tr>\n",
              "    <tr>\n",
              "      <th>218</th>\n",
              "      <td>-3.638515</td>\n",
              "      <td>earlydevelopment_environmentalscience</td>\n",
              "    </tr>\n",
              "    <tr>\n",
              "      <th>3842</th>\n",
              "      <td>-3.752417</td>\n",
              "      <td>six</td>\n",
              "    </tr>\n",
              "    <tr>\n",
              "      <th>3545</th>\n",
              "      <td>-3.944513</td>\n",
              "      <td>provide my</td>\n",
              "    </tr>\n",
              "    <tr>\n",
              "      <th>2719</th>\n",
              "      <td>-4.195345</td>\n",
              "      <td>live in</td>\n",
              "    </tr>\n",
              "    <tr>\n",
              "      <th>1859</th>\n",
              "      <td>-4.277197</td>\n",
              "      <td>feel that</td>\n",
              "    </tr>\n",
              "    <tr>\n",
              "      <th>2504</th>\n",
              "      <td>-4.441474</td>\n",
              "      <td>is one</td>\n",
              "    </tr>\n",
              "    <tr>\n",
              "      <th>395</th>\n",
              "      <td>-4.534602</td>\n",
              "      <td>literature_writing_teamsports</td>\n",
              "    </tr>\n",
              "    <tr>\n",
              "      <th>4113</th>\n",
              "      <td>-4.598274</td>\n",
              "      <td>students to move</td>\n",
              "    </tr>\n",
              "    <tr>\n",
              "      <th>4003</th>\n",
              "      <td>-4.719603</td>\n",
              "      <td>students are able</td>\n",
              "    </tr>\n",
              "    <tr>\n",
              "      <th>4771</th>\n",
              "      <td>-4.769355</td>\n",
              "      <td>to express themselves</td>\n",
              "    </tr>\n",
              "    <tr>\n",
              "      <th>3799</th>\n",
              "      <td>-4.894730</td>\n",
              "      <td>seven</td>\n",
              "    </tr>\n",
              "    <tr>\n",
              "      <th>1460</th>\n",
              "      <td>-4.911040</td>\n",
              "      <td>core</td>\n",
              "    </tr>\n",
              "    <tr>\n",
              "      <th>2025</th>\n",
              "      <td>-4.941154</td>\n",
              "      <td>funds</td>\n",
              "    </tr>\n",
              "    <tr>\n",
              "      <th>2535</th>\n",
              "      <td>-4.956616</td>\n",
              "      <td>it is important</td>\n",
              "    </tr>\n",
              "    <tr>\n",
              "      <th>1700</th>\n",
              "      <td>-4.962681</td>\n",
              "      <td>encourage them</td>\n",
              "    </tr>\n",
              "    <tr>\n",
              "      <th>2867</th>\n",
              "      <td>-4.977770</td>\n",
              "      <td>meals</td>\n",
              "    </tr>\n",
              "    <tr>\n",
              "      <th>4850</th>\n",
              "      <td>-4.987557</td>\n",
              "      <td>to my</td>\n",
              "    </tr>\n",
              "    <tr>\n",
              "      <th>3260</th>\n",
              "      <td>-5.041268</td>\n",
              "      <td>on one</td>\n",
              "    </tr>\n",
              "    <tr>\n",
              "      <th>600</th>\n",
              "      <td>-5.162053</td>\n",
              "      <td>allow the</td>\n",
              "    </tr>\n",
              "  </tbody>\n",
              "</table>\n",
              "</div>\n",
              "      <button class=\"colab-df-convert\" onclick=\"convertToInteractive('df-0fdca456-2f13-4e64-8c35-c8a6cbeb93ab')\"\n",
              "              title=\"Convert this dataframe to an interactive table.\"\n",
              "              style=\"display:none;\">\n",
              "        \n",
              "  <svg xmlns=\"http://www.w3.org/2000/svg\" height=\"24px\"viewBox=\"0 0 24 24\"\n",
              "       width=\"24px\">\n",
              "    <path d=\"M0 0h24v24H0V0z\" fill=\"none\"/>\n",
              "    <path d=\"M18.56 5.44l.94 2.06.94-2.06 2.06-.94-2.06-.94-.94-2.06-.94 2.06-2.06.94zm-11 1L8.5 8.5l.94-2.06 2.06-.94-2.06-.94L8.5 2.5l-.94 2.06-2.06.94zm10 10l.94 2.06.94-2.06 2.06-.94-2.06-.94-.94-2.06-.94 2.06-2.06.94z\"/><path d=\"M17.41 7.96l-1.37-1.37c-.4-.4-.92-.59-1.43-.59-.52 0-1.04.2-1.43.59L10.3 9.45l-7.72 7.72c-.78.78-.78 2.05 0 2.83L4 21.41c.39.39.9.59 1.41.59.51 0 1.02-.2 1.41-.59l7.78-7.78 2.81-2.81c.8-.78.8-2.07 0-2.86zM5.41 20L4 18.59l7.72-7.72 1.47 1.35L5.41 20z\"/>\n",
              "  </svg>\n",
              "      </button>\n",
              "      \n",
              "  <style>\n",
              "    .colab-df-container {\n",
              "      display:flex;\n",
              "      flex-wrap:wrap;\n",
              "      gap: 12px;\n",
              "    }\n",
              "\n",
              "    .colab-df-convert {\n",
              "      background-color: #E8F0FE;\n",
              "      border: none;\n",
              "      border-radius: 50%;\n",
              "      cursor: pointer;\n",
              "      display: none;\n",
              "      fill: #1967D2;\n",
              "      height: 32px;\n",
              "      padding: 0 0 0 0;\n",
              "      width: 32px;\n",
              "    }\n",
              "\n",
              "    .colab-df-convert:hover {\n",
              "      background-color: #E2EBFA;\n",
              "      box-shadow: 0px 1px 2px rgba(60, 64, 67, 0.3), 0px 1px 3px 1px rgba(60, 64, 67, 0.15);\n",
              "      fill: #174EA6;\n",
              "    }\n",
              "\n",
              "    [theme=dark] .colab-df-convert {\n",
              "      background-color: #3B4455;\n",
              "      fill: #D2E3FC;\n",
              "    }\n",
              "\n",
              "    [theme=dark] .colab-df-convert:hover {\n",
              "      background-color: #434B5C;\n",
              "      box-shadow: 0px 1px 3px 1px rgba(0, 0, 0, 0.15);\n",
              "      filter: drop-shadow(0px 1px 2px rgba(0, 0, 0, 0.3));\n",
              "      fill: #FFFFFF;\n",
              "    }\n",
              "  </style>\n",
              "\n",
              "      <script>\n",
              "        const buttonEl =\n",
              "          document.querySelector('#df-0fdca456-2f13-4e64-8c35-c8a6cbeb93ab button.colab-df-convert');\n",
              "        buttonEl.style.display =\n",
              "          google.colab.kernel.accessAllowed ? 'block' : 'none';\n",
              "\n",
              "        async function convertToInteractive(key) {\n",
              "          const element = document.querySelector('#df-0fdca456-2f13-4e64-8c35-c8a6cbeb93ab');\n",
              "          const dataTable =\n",
              "            await google.colab.kernel.invokeFunction('convertToInteractive',\n",
              "                                                     [key], {});\n",
              "          if (!dataTable) return;\n",
              "\n",
              "          const docLinkHtml = 'Like what you see? Visit the ' +\n",
              "            '<a target=\"_blank\" href=https://colab.research.google.com/notebooks/data_table.ipynb>data table notebook</a>'\n",
              "            + ' to learn more about interactive tables.';\n",
              "          element.innerHTML = '';\n",
              "          dataTable['output_type'] = 'display_data';\n",
              "          await google.colab.output.renderOutput(dataTable, element);\n",
              "          const docLink = document.createElement('div');\n",
              "          docLink.innerHTML = docLinkHtml;\n",
              "          element.appendChild(docLink);\n",
              "        }\n",
              "      </script>\n",
              "    </div>\n",
              "  </div>\n",
              "  "
            ],
            "text/plain": [
              "      feature_prob_estimates                          feature_names\n",
              "4257               -3.484473                              that come\n",
              "218                -3.638515  earlydevelopment_environmentalscience\n",
              "3842               -3.752417                                    six\n",
              "3545               -3.944513                             provide my\n",
              "2719               -4.195345                                live in\n",
              "1859               -4.277197                              feel that\n",
              "2504               -4.441474                                 is one\n",
              "395                -4.534602          literature_writing_teamsports\n",
              "4113               -4.598274                       students to move\n",
              "4003               -4.719603                      students are able\n",
              "4771               -4.769355                  to express themselves\n",
              "3799               -4.894730                                  seven\n",
              "1460               -4.911040                                   core\n",
              "2025               -4.941154                                  funds\n",
              "2535               -4.956616                        it is important\n",
              "1700               -4.962681                         encourage them\n",
              "2867               -4.977770                                  meals\n",
              "4850               -4.987557                                  to my\n",
              "3260               -5.041268                                 on one\n",
              "600                -5.162053                              allow the"
            ]
          },
          "metadata": {},
          "execution_count": 509
        }
      ]
    },
    {
      "cell_type": "code",
      "source": [
        "#top 20 Positives\n",
        "bow_features_probs_pos = []\n",
        "for a in range(len(all_feature_names_bow)):\n",
        "    bow_features_probs_pos.append(nb.feature_log_prob_[1,a] )# positive feature probabilities\n",
        "#len(bow_features_probs)\n",
        "final_bow_features = pd.DataFrame({'feature_prob_estimates_pos' : bow_features_probs_pos,'feature_names' : all_feature_names_bow})\n",
        "a =final_bow_features.sort_values(by = ['feature_prob_estimates_pos'], ascending = False)\n",
        "a.head(20)"
      ],
      "metadata": {
        "colab": {
          "base_uri": "https://localhost:8080/",
          "height": 676
        },
        "id": "6QaUZmY2uui0",
        "outputId": "51c7e736-b381-46b0-cd03-c846721617b6"
      },
      "execution_count": 510,
      "outputs": [
        {
          "output_type": "execute_result",
          "data": {
            "text/html": [
              "\n",
              "  <div id=\"df-622fd195-6ec4-4fb0-9871-9c36831fdd8d\">\n",
              "    <div class=\"colab-df-container\">\n",
              "      <div>\n",
              "<style scoped>\n",
              "    .dataframe tbody tr th:only-of-type {\n",
              "        vertical-align: middle;\n",
              "    }\n",
              "\n",
              "    .dataframe tbody tr th {\n",
              "        vertical-align: top;\n",
              "    }\n",
              "\n",
              "    .dataframe thead th {\n",
              "        text-align: right;\n",
              "    }\n",
              "</style>\n",
              "<table border=\"1\" class=\"dataframe\">\n",
              "  <thead>\n",
              "    <tr style=\"text-align: right;\">\n",
              "      <th></th>\n",
              "      <th>feature_prob_estimates_pos</th>\n",
              "      <th>feature_names</th>\n",
              "    </tr>\n",
              "  </thead>\n",
              "  <tbody>\n",
              "    <tr>\n",
              "      <th>4257</th>\n",
              "      <td>-3.485547</td>\n",
              "      <td>that come</td>\n",
              "    </tr>\n",
              "    <tr>\n",
              "      <th>218</th>\n",
              "      <td>-3.646067</td>\n",
              "      <td>earlydevelopment_environmentalscience</td>\n",
              "    </tr>\n",
              "    <tr>\n",
              "      <th>3842</th>\n",
              "      <td>-3.735842</td>\n",
              "      <td>six</td>\n",
              "    </tr>\n",
              "    <tr>\n",
              "      <th>3545</th>\n",
              "      <td>-3.935568</td>\n",
              "      <td>provide my</td>\n",
              "    </tr>\n",
              "    <tr>\n",
              "      <th>2719</th>\n",
              "      <td>-4.209617</td>\n",
              "      <td>live in</td>\n",
              "    </tr>\n",
              "    <tr>\n",
              "      <th>1859</th>\n",
              "      <td>-4.299985</td>\n",
              "      <td>feel that</td>\n",
              "    </tr>\n",
              "    <tr>\n",
              "      <th>2504</th>\n",
              "      <td>-4.442132</td>\n",
              "      <td>is one</td>\n",
              "    </tr>\n",
              "    <tr>\n",
              "      <th>395</th>\n",
              "      <td>-4.576440</td>\n",
              "      <td>literature_writing_teamsports</td>\n",
              "    </tr>\n",
              "    <tr>\n",
              "      <th>4113</th>\n",
              "      <td>-4.617133</td>\n",
              "      <td>students to move</td>\n",
              "    </tr>\n",
              "    <tr>\n",
              "      <th>4003</th>\n",
              "      <td>-4.707031</td>\n",
              "      <td>students are able</td>\n",
              "    </tr>\n",
              "    <tr>\n",
              "      <th>4771</th>\n",
              "      <td>-4.723254</td>\n",
              "      <td>to express themselves</td>\n",
              "    </tr>\n",
              "    <tr>\n",
              "      <th>1460</th>\n",
              "      <td>-4.867405</td>\n",
              "      <td>core</td>\n",
              "    </tr>\n",
              "    <tr>\n",
              "      <th>2867</th>\n",
              "      <td>-4.927979</td>\n",
              "      <td>meals</td>\n",
              "    </tr>\n",
              "    <tr>\n",
              "      <th>2535</th>\n",
              "      <td>-4.945862</td>\n",
              "      <td>it is important</td>\n",
              "    </tr>\n",
              "    <tr>\n",
              "      <th>3799</th>\n",
              "      <td>-4.951174</td>\n",
              "      <td>seven</td>\n",
              "    </tr>\n",
              "    <tr>\n",
              "      <th>1700</th>\n",
              "      <td>-4.965329</td>\n",
              "      <td>encourage them</td>\n",
              "    </tr>\n",
              "    <tr>\n",
              "      <th>2025</th>\n",
              "      <td>-4.972278</td>\n",
              "      <td>funds</td>\n",
              "    </tr>\n",
              "    <tr>\n",
              "      <th>4850</th>\n",
              "      <td>-5.008657</td>\n",
              "      <td>to my</td>\n",
              "    </tr>\n",
              "    <tr>\n",
              "      <th>3260</th>\n",
              "      <td>-5.066945</td>\n",
              "      <td>on one</td>\n",
              "    </tr>\n",
              "    <tr>\n",
              "      <th>600</th>\n",
              "      <td>-5.151017</td>\n",
              "      <td>allow the</td>\n",
              "    </tr>\n",
              "  </tbody>\n",
              "</table>\n",
              "</div>\n",
              "      <button class=\"colab-df-convert\" onclick=\"convertToInteractive('df-622fd195-6ec4-4fb0-9871-9c36831fdd8d')\"\n",
              "              title=\"Convert this dataframe to an interactive table.\"\n",
              "              style=\"display:none;\">\n",
              "        \n",
              "  <svg xmlns=\"http://www.w3.org/2000/svg\" height=\"24px\"viewBox=\"0 0 24 24\"\n",
              "       width=\"24px\">\n",
              "    <path d=\"M0 0h24v24H0V0z\" fill=\"none\"/>\n",
              "    <path d=\"M18.56 5.44l.94 2.06.94-2.06 2.06-.94-2.06-.94-.94-2.06-.94 2.06-2.06.94zm-11 1L8.5 8.5l.94-2.06 2.06-.94-2.06-.94L8.5 2.5l-.94 2.06-2.06.94zm10 10l.94 2.06.94-2.06 2.06-.94-2.06-.94-.94-2.06-.94 2.06-2.06.94z\"/><path d=\"M17.41 7.96l-1.37-1.37c-.4-.4-.92-.59-1.43-.59-.52 0-1.04.2-1.43.59L10.3 9.45l-7.72 7.72c-.78.78-.78 2.05 0 2.83L4 21.41c.39.39.9.59 1.41.59.51 0 1.02-.2 1.41-.59l7.78-7.78 2.81-2.81c.8-.78.8-2.07 0-2.86zM5.41 20L4 18.59l7.72-7.72 1.47 1.35L5.41 20z\"/>\n",
              "  </svg>\n",
              "      </button>\n",
              "      \n",
              "  <style>\n",
              "    .colab-df-container {\n",
              "      display:flex;\n",
              "      flex-wrap:wrap;\n",
              "      gap: 12px;\n",
              "    }\n",
              "\n",
              "    .colab-df-convert {\n",
              "      background-color: #E8F0FE;\n",
              "      border: none;\n",
              "      border-radius: 50%;\n",
              "      cursor: pointer;\n",
              "      display: none;\n",
              "      fill: #1967D2;\n",
              "      height: 32px;\n",
              "      padding: 0 0 0 0;\n",
              "      width: 32px;\n",
              "    }\n",
              "\n",
              "    .colab-df-convert:hover {\n",
              "      background-color: #E2EBFA;\n",
              "      box-shadow: 0px 1px 2px rgba(60, 64, 67, 0.3), 0px 1px 3px 1px rgba(60, 64, 67, 0.15);\n",
              "      fill: #174EA6;\n",
              "    }\n",
              "\n",
              "    [theme=dark] .colab-df-convert {\n",
              "      background-color: #3B4455;\n",
              "      fill: #D2E3FC;\n",
              "    }\n",
              "\n",
              "    [theme=dark] .colab-df-convert:hover {\n",
              "      background-color: #434B5C;\n",
              "      box-shadow: 0px 1px 3px 1px rgba(0, 0, 0, 0.15);\n",
              "      filter: drop-shadow(0px 1px 2px rgba(0, 0, 0, 0.3));\n",
              "      fill: #FFFFFF;\n",
              "    }\n",
              "  </style>\n",
              "\n",
              "      <script>\n",
              "        const buttonEl =\n",
              "          document.querySelector('#df-622fd195-6ec4-4fb0-9871-9c36831fdd8d button.colab-df-convert');\n",
              "        buttonEl.style.display =\n",
              "          google.colab.kernel.accessAllowed ? 'block' : 'none';\n",
              "\n",
              "        async function convertToInteractive(key) {\n",
              "          const element = document.querySelector('#df-622fd195-6ec4-4fb0-9871-9c36831fdd8d');\n",
              "          const dataTable =\n",
              "            await google.colab.kernel.invokeFunction('convertToInteractive',\n",
              "                                                     [key], {});\n",
              "          if (!dataTable) return;\n",
              "\n",
              "          const docLinkHtml = 'Like what you see? Visit the ' +\n",
              "            '<a target=\"_blank\" href=https://colab.research.google.com/notebooks/data_table.ipynb>data table notebook</a>'\n",
              "            + ' to learn more about interactive tables.';\n",
              "          element.innerHTML = '';\n",
              "          dataTable['output_type'] = 'display_data';\n",
              "          await google.colab.output.renderOutput(dataTable, element);\n",
              "          const docLink = document.createElement('div');\n",
              "          docLink.innerHTML = docLinkHtml;\n",
              "          element.appendChild(docLink);\n",
              "        }\n",
              "      </script>\n",
              "    </div>\n",
              "  </div>\n",
              "  "
            ],
            "text/plain": [
              "      feature_prob_estimates_pos                          feature_names\n",
              "4257                   -3.485547                              that come\n",
              "218                    -3.646067  earlydevelopment_environmentalscience\n",
              "3842                   -3.735842                                    six\n",
              "3545                   -3.935568                             provide my\n",
              "2719                   -4.209617                                live in\n",
              "1859                   -4.299985                              feel that\n",
              "2504                   -4.442132                                 is one\n",
              "395                    -4.576440          literature_writing_teamsports\n",
              "4113                   -4.617133                       students to move\n",
              "4003                   -4.707031                      students are able\n",
              "4771                   -4.723254                  to express themselves\n",
              "1460                   -4.867405                                   core\n",
              "2867                   -4.927979                                  meals\n",
              "2535                   -4.945862                        it is important\n",
              "3799                   -4.951174                                  seven\n",
              "1700                   -4.965329                         encourage them\n",
              "2025                   -4.972278                                  funds\n",
              "4850                   -5.008657                                  to my\n",
              "3260                   -5.066945                                 on one\n",
              "600                    -5.151017                              allow the"
            ]
          },
          "metadata": {},
          "execution_count": 510
        }
      ]
    },
    {
      "cell_type": "markdown",
      "source": [
        "#summary"
      ],
      "metadata": {
        "id": "A4CKrugeWqp2"
      }
    },
    {
      "cell_type": "code",
      "source": [
        "# http://zetcode.com/python/prettytable/\n",
        "\n",
        "from prettytable import PrettyTable\n",
        "x = PrettyTable()\n",
        "x.field_names = [\"Vectorizer\", \"Model\", \"Hyperparameters(ALPHA)\", \"Test AUC\"]\n",
        "\n",
        "x.add_row([\"BOW\", \"Naive Bayes\",\"(0.5)\", 0.68])\n",
        "x.add_row([\"TFIDF\", \"Naive Bayes\", \"(0.05)\",  0.64])\n",
        "print(x)"
      ],
      "metadata": {
        "colab": {
          "base_uri": "https://localhost:8080/"
        },
        "id": "vNxQ980tWsMy",
        "outputId": "7c5bb9e7-24d2-4579-e7c3-e4d8134581d6"
      },
      "execution_count": 513,
      "outputs": [
        {
          "output_type": "stream",
          "name": "stdout",
          "text": [
            "+------------+-------------+------------------------+----------+\n",
            "| Vectorizer |    Model    | Hyperparameters(ALPHA) | Test AUC |\n",
            "+------------+-------------+------------------------+----------+\n",
            "|    BOW     | Naive Bayes |         (0.5)          |   0.68   |\n",
            "|   TFIDF    | Naive Bayes |         (0.05)         |   0.64   |\n",
            "+------------+-------------+------------------------+----------+\n"
          ]
        }
      ]
    }
  ]
}